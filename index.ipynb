{
 "cells": [
  {
   "cell_type": "code",
   "execution_count": 508,
   "metadata": {},
   "outputs": [],
   "source": [
    "# pip install --upgrade --quiet pypdf chromadb pandas_gbq google bigquery google-search-results matplotlib wikipedia numexpr langchain langsmith  langchain-core langchain-community langchain-openai "
   ]
  },
  {
   "cell_type": "markdown",
   "metadata": {},
   "source": [
    "## Setting Things Up"
   ]
  },
  {
   "cell_type": "code",
   "execution_count": 520,
   "metadata": {},
   "outputs": [
    {
     "data": {
      "text/plain": [
       "'key.json'"
      ]
     },
     "execution_count": 520,
     "metadata": {},
     "output_type": "execute_result"
    }
   ],
   "source": [
    "import os\n",
    "os.getenv('./.env')\n",
    "\n",
    "openAiApiKey = os.getenv('OPENAI_API_KEY')\n",
    "bigqueryProject = os.getenv('BIG_QUERY_PROJECT')\n",
    "bigqueryKey = os.getenv('BIG_QUERY_KEY')\n",
    "\n",
    "bigqueryKey"
   ]
  },
  {
   "cell_type": "code",
   "execution_count": 510,
   "metadata": {},
   "outputs": [
    {
     "name": "stdout",
     "output_type": "stream",
     "text": [
      "<google.api_core.page_iterator.HTTPIterator object at 0x17f0196d0>\n",
      "<google.api_core.page_iterator.HTTPIterator object at 0x17f057e90>\n"
     ]
    },
    {
     "data": {
      "text/plain": [
       "\"########## \\n                ##########\\n                TABLE TrakingProviders.EnrichedPositions {\\n                    ['Lat: FLOAT;', 'Long: FLOAT;', 'Altitude: INTEGER;', 'Address: STRING;', 'AddressNumber: STRING;', 'Neighborhood: STRING;', 'City: STRING;', 'State: STRING;', 'Zip: STRING;', 'Heading: INTEGER;', 'CaptureDate: TIMESTAMP;', 'Estimated: INTEGER;', 'Satellite: INTEGER;', 'Valid: BOOLEAN;', 'SentDate: TIMESTAMP;', 'Odometer: INTEGER;', 'Speed: FLOAT;', 'Rpm: INTEGER;', 'Hourmeter: INTEGER;', 'VehicleBatteryTension: FLOAT;', 'TrackerBatteryTension: FLOAT;', 'Plate: STRING;', 'Blocked: BOOLEAN;', 'Ignition: BOOLEAN;', 'ExtractionDate: TIMESTAMP;', 'TrackingProvider: STRING;', 'ProviderVehicleId: STRING;', 'ProviderPositionId: STRING;', 'RiskArea: BOOLEAN;', 'CountryBorder: BOOLEAN;', 'RoadType: STRING;', 'Surface: STRING;', 'MaxSpeed: INTEGER;', 'PrecipitationValue: FLOAT;', 'PrecipitationIntensity: STRING;']\\n                }\\n            \\n                ##########\\n                TABLE TrakingProviders.EnrichedVehicleScore {\\n                    ['vehicle_id: STRING;', 'plate: STRING;', 'created_at: TIMESTAMP;', 'evaluation_start: TIMESTAMP;', 'evaluation_end: TIMESTAMP;', 'score_composition: JSON;', 'composition_amounts: JSON;', 'distance_driven: NUMERIC;', 'score: NUMERIC;', 'compsition_amounts: JSON;']\\n                }\\n            \\n                ##########\\n                TABLE TrakingProviders.PositionEvents {\\n                    ['Lat: FLOAT;', 'Long: FLOAT;', 'Altitude: INTEGER;', 'Address: STRING;', 'AddressNumber: STRING;', 'Neighborhood: STRING;', 'City: STRING;', 'State: STRING;', 'Zip: STRING;', 'Heading: INTEGER;', 'CaptureDate: TIMESTAMP;', 'Estimated: INTEGER;', 'Satellite: INTEGER;', 'Valid: BOOLEAN;', 'SentDate: TIMESTAMP;', 'Odometer: INTEGER;', 'Speed: FLOAT;', 'Rpm: INTEGER;', 'Hourmeter: INTEGER;', 'VehicleBatteryTension: FLOAT;', 'TrackerBatteryTension: FLOAT;', 'Plate: STRING;', 'Blocked: BOOLEAN;', 'Ignition: BOOLEAN;', 'ExtractionDate: TIMESTAMP;', 'TrackingProvider: STRING;', 'ProviderVehicleId: STRING;', 'ProviderPositionId: STRING;', 'RiskArea: BOOLEAN;', 'CountryBorder: BOOLEAN;']\\n                }\\n            \\n                ##########\\n                TABLE TrakingProviders.Regions {\\n                    ['id: STRING;', 'Name: STRING;', 'Description: STRING;', 'RegionType: STRING;', 'GeoJSON: GEOGRAPHY;']\\n                }\\n            \\n                ##########\\n                TABLE TrakingProviders.WeatherEvents {\\n                    ['id: INTEGER;', 'condition_id: INTEGER;', 'condition_desciption: STRING;', 'severity_id: INTEGER;', 'severity_description: STRING;', 'start: DATETIME;', 'end: DATETIME;', 'risks: STRING;', 'affected_region: GEOGRAPHY;', 'alert_url: STRING;']\\n                }\\n            \\n                ##########\\n                TABLE TrakingProviders.WeatherMeasurements {\\n                    ['measurement_start: DATETIME;', 'measurement_end: DATETIME;', 'measurement_value: FLOAT;', 'measurement_type: STRING;', 'station_code: STRING;', 'station_name: STRING;', 'station_state: STRING;', 'unit: STRING;', 'location: GEOGRAPHY;']\\n                }\\n            ########## \\n                ##########\\n                TABLE ProdReplica.public_antifraud_pf {\\n                    ['id: STRING;', 'name: STRING;', 'cpf: STRING;', 'accepted: BOOLEAN;', 'user_id: STRING;', 'deleted: BOOLEAN;', 'created_at: TIMESTAMP;', 'updated_at: TIMESTAMP;', 'birth_date: STRING;', 'birth_place: STRING;', 'cpf_region: STRING;', 'gender: STRING;', 'instruction_level: STRING;', 'irs_status: STRING;', 'last_update: STRING;', 'merital_status: STRING;', 'mother_name: STRING;', 'number_dependants: STRING;', 'rg_issuing_authority: STRING;', 'rg_issuing_date: STRING;', 'rg_number: STRING;', 'voter_number: STRING;', 'obit_indication: BOOLEAN;', 'suspect_id: STRING;', 'origin: STRING;', 'rental_price: FLOAT;', 'insurance_enabled: BOOLEAN;', 'status: STRING;', 'datastream_metadata: RECORD;', 'cached: BOOLEAN;', 'partner_id: STRING;']\\n                }\\n            \\n                ##########\\n                TABLE ProdReplica.public_antifraud_pf_address {\\n                    ['id: STRING;', 'approved: BOOLEAN;', 'message: STRING;', 'valid: BOOLEAN;', 'analysis_id: STRING;', 'tries: INTEGER;', 'elapsed_time: FLOAT;', 'content: JSON;', 'loading: BOOLEAN;', 'created_at: TIMESTAMP;', 'datastream_metadata: RECORD;', 'cached: BOOLEAN;']\\n                }\\n            \\n                ##########\\n                TABLE ProdReplica.public_antifraud_pf_administrative_procedures {\\n                    ['id: STRING;', 'approved: BOOLEAN;', 'message: STRING;', 'valid: BOOLEAN;', 'analysis_id: STRING;', 'tries: INTEGER;', 'elapsed_time: FLOAT;', 'content: JSON;', 'loading: BOOLEAN;', 'created_at: TIMESTAMP;', 'datastream_metadata: RECORD;', 'cached: BOOLEAN;']\\n                }\\n            \\n                ##########\\n                TABLE ProdReplica.public_antifraud_pf_arrest_warrants {\\n                    ['id: STRING;', 'approved: BOOLEAN;', 'message: STRING;', 'valid: BOOLEAN;', 'analysis_id: STRING;', 'tries: INTEGER;', 'elapsed_time: FLOAT;', 'content: JSON;', 'loading: BOOLEAN;', 'created_at: TIMESTAMP;', 'datastream_metadata: RECORD;', 'cached: BOOLEAN;']\\n                }\\n            \\n                ##########\\n                TABLE ProdReplica.public_antifraud_pf_companies {\\n                    ['id: STRING;', 'approved: BOOLEAN;', 'message: STRING;', 'valid: BOOLEAN;', 'analysis_id: STRING;', 'tries: INTEGER;', 'elapsed_time: FLOAT;', 'content: JSON;', 'loading: BOOLEAN;', 'created_at: TIMESTAMP;', 'datastream_metadata: RECORD;', 'cached: BOOLEAN;']\\n                }\\n            \\n                ##########\\n                TABLE ProdReplica.public_antifraud_pf_conditions {\\n                    ['id: STRING;', 'rule: STRING;', 'is_first: BOOLEAN;', 'is_last: BOOLEAN;', 'on_false: STRING;', 'on_true: STRING;', 'branch_id: STRING;', 'datastream_metadata: RECORD;']\\n                }\\n            \\n                ##########\\n                TABLE ProdReplica.public_antifraud_pf_credit_analysis_advanced {\\n                    ['id: STRING;', 'approved: BOOLEAN;', 'message: STRING;', 'valid: BOOLEAN;', 'content: JSON;', 'analysis_id: STRING;', 'tries: INTEGER;', 'elapsed_time: FLOAT;', 'loading: BOOLEAN;', 'created_at: TIMESTAMP;', 'datastream_metadata: RECORD;', 'cached: BOOLEAN;']\\n                }\\n            \\n                ##########\\n                TABLE ProdReplica.public_antifraud_pf_credit_analysis_simple {\\n                    ['id: STRING;', 'approved: BOOLEAN;', 'message: STRING;', 'valid: BOOLEAN;', 'content: JSON;', 'analysis_id: STRING;', 'tries: INTEGER;', 'elapsed_time: FLOAT;', 'loading: BOOLEAN;', 'created_at: TIMESTAMP;', 'datastream_metadata: RECORD;', 'variant: STRING;', 'cached: BOOLEAN;']\\n                }\\n            \\n                ##########\\n                TABLE ProdReplica.public_antifraud_pf_criminal_records {\\n                    ['id: STRING;', 'approved: BOOLEAN;', 'message: STRING;', 'valid: BOOLEAN;', 'content: JSON;', 'analysis_id: STRING;', 'tries: INTEGER;', 'elapsed_time: FLOAT;', 'loading: BOOLEAN;', 'created_at: TIMESTAMP;', 'datastream_metadata: RECORD;', 'cached: BOOLEAN;']\\n                }\\n            \\n                ##########\\n                TABLE ProdReplica.public_antifraud_pf_employment_bond {\\n                    ['id: STRING;', 'approved: BOOLEAN;', 'message: STRING;', 'valid: BOOLEAN;', 'content: JSON;', 'analysis_id: STRING;', 'tries: INTEGER;', 'elapsed_time: FLOAT;', 'loading: BOOLEAN;', 'created_at: TIMESTAMP;', 'datastream_metadata: RECORD;', 'cached: BOOLEAN;']\\n                }\\n            \\n                ##########\\n                TABLE ProdReplica.public_antifraud_pf_facebook_search {\\n                    ['id: STRING;', 'approved: BOOLEAN;', 'message: STRING;', 'valid: BOOLEAN;', 'analysis_id: STRING;', 'tries: INTEGER;', 'elapsed_time: FLOAT;', 'content: JSON;', 'loading: BOOLEAN;', 'created_at: TIMESTAMP;', 'datastream_metadata: RECORD;', 'cached: BOOLEAN;']\\n                }\\n            \\n                ##########\\n                TABLE ProdReplica.public_antifraud_pf_facial_biometry {\\n                    ['id: STRING;', 'approved: BOOLEAN;', 'message: STRING;', 'valid: BOOLEAN;', 'content: JSON;', 'method: STRING;', 'hash: STRING;', 'device: STRING;', 'location: STRING;', 'analysis_id: STRING;', 'tries: INTEGER;', 'elapsed_time: FLOAT;', 'loading: BOOLEAN;', 'category_cnh: STRING;', 'cnh: STRING;', 'photo: STRING;', 'created_at: TIMESTAMP;', 'datastream_metadata: RECORD;', 'latlong: JSON;', 'fingerprint_id: STRING;', 'liveness: BOOLEAN;', 'liveness_session: STRING;', 'deleted: BOOLEAN;']\\n                }\\n            \\n                ##########\\n                TABLE ProdReplica.public_antifraud_pf_feedback {\\n                    ['id: STRING;', 'cpf: STRING;', 'content: STRING;', 'user_id: STRING;', 'deleted: BOOLEAN;', 'created_at: TIMESTAMP;', 'updated_at: TIMESTAMP;', 'datastream_metadata: RECORD;']\\n                }\\n            \\n                ##########\\n                TABLE ProdReplica.public_antifraud_pf_google_search {\\n                    ['id: STRING;', 'approved: BOOLEAN;', 'message: STRING;', 'valid: BOOLEAN;', 'analysis_id: STRING;', 'content: JSON;', 'tries: INTEGER;', 'elapsed_time: FLOAT;', 'loading: BOOLEAN;', 'created_at: TIMESTAMP;', 'datastream_metadata: RECORD;', 'cached: BOOLEAN;']\\n                }\\n            \\n                ##########\\n                TABLE ProdReplica.public_antifraud_pf_law_suits {\\n                    ['id: STRING;', 'approved: BOOLEAN;', 'message: STRING;', 'valid: BOOLEAN;', 'analysis_id: STRING;', 'tries: INTEGER;', 'elapsed_time: FLOAT;', 'content: JSON;', 'loading: BOOLEAN;', 'created_at: TIMESTAMP;', 'datastream_metadata: RECORD;', 'cached: BOOLEAN;']\\n                }\\n            \\n                ##########\\n                TABLE ProdReplica.public_antifraud_pf_priority_rules {\\n                    ['id: STRING;', 'contact: INTEGER;', 'arrest_warrrants: INTEGER;', 'companies: INTEGER;', 'credit_advanced: INTEGER;', 'credit_simple: INTEGER;', 'credit_serasa: INTEGER;', 'criminal_records: INTEGER;', 'employment_bonds: INTEGER;', 'web: INTEGER;', 'protests: INTEGER;', 'revenue_service: INTEGER;', 'facial_biometry: INTEGER;', 'law_suits: INTEGER;', 'administrative_procedures: INTEGER;', 'approved_filter: BOOLEAN;', 'branch_id: STRING;', 'created_at: TIMESTAMP;', 'updated_at: TIMESTAMP;', 'userId: STRING;', 'datastream_metadata: RECORD;']\\n                }\\n            \\n                ##########\\n                TABLE ProdReplica.public_antifraud_pf_protests {\\n                    ['id: STRING;', 'approved: BOOLEAN;', 'message: STRING;', 'valid: BOOLEAN;', 'content: JSON;', 'analysis_id: STRING;', 'tries: INTEGER;', 'elapsed_time: FLOAT;', 'loading: BOOLEAN;', 'created_at: TIMESTAMP;', 'datastream_metadata: RECORD;', 'cached: BOOLEAN;']\\n                }\\n            \\n                ##########\\n                TABLE ProdReplica.public_antifraud_pf_revenue_service {\\n                    ['id: STRING;', 'approved: BOOLEAN;', 'message: STRING;', 'valid: BOOLEAN;', 'content: JSON;', 'analysis_id: STRING;', 'tries: INTEGER;', 'elapsed_time: FLOAT;', 'loading: BOOLEAN;', 'created_at: TIMESTAMP;', 'datastream_metadata: RECORD;', 'cached: BOOLEAN;']\\n                }\\n            \\n                ##########\\n                TABLE ProdReplica.public_antifraud_pf_rules {\\n                    ['id: STRING;', 'credit_simple_score_range: JSON;', 'credit_simple_low_score_restriction_disapproved: BOOLEAN;', 'credit_advanced_score_range: JSON;', 'credit_advanced_presumed_income_range: JSON;', 'credit_advanced_low_score_restriction_disapproved: BOOLEAN;', 'credit_advanced_low_score_low_income_disapproved: BOOLEAN;', 'credit_serasa_score_range: JSON;', 'credit_serasa_presumed_income_range: JSON;', 'credit_serasa_low_score_restriction_disapproved: BOOLEAN;', 'credit_serasa_low_score_low_income_disapproved: BOOLEAN;', 'branch_id: STRING;', 'created_at: TIMESTAMP;', 'updated_at: TIMESTAMP;', 'userId: STRING;', 'credit_serasa_minimum_share: FLOAT;', 'credit_serasa_share_of_wallet: BOOLEAN;', 'analyze_label: STRING;', 'approved_label: STRING;', 'unapproved_label: STRING;', 'datastream_metadata: RECORD;', 'credit_serasa_debts_range: JSON;']\\n                }\\n            \\n                ##########\\n                TABLE ProdReplica.public_antifraud_pf_rules_required_analysis {\\n                    ['id: STRING;', 'branch_id: STRING;', 'credit_serasa: BOOLEAN;', 'arrest_warrants: BOOLEAN;', 'law_suits: BOOLEAN;', 'google: BOOLEAN;', 'facebook: BOOLEAN;', 'companies: BOOLEAN;', 'addresses: BOOLEAN;', 'administrative_procedures: BOOLEAN;', 'credit_analysis_simple: BOOLEAN;', 'credit_analysis_advanced: BOOLEAN;', 'criminal_records: BOOLEAN;', 'employment_bond: BOOLEAN;', 'protests: BOOLEAN;', 'revenue_service: BOOLEAN;', 'facial_biometry: BOOLEAN;', 'datastream_metadata: RECORD;']\\n                }\\n            \\n                ##########\\n                TABLE ProdReplica.public_antifraud_pf_rules_variables {\\n                    ['id: STRING;', 'CREDIT_SERASA_RESTRICTION: STRING;', 'CREDIT_SERASA_SCORE: STRING;', 'CREDIT_SERASA_PRESUMED_INCOME: STRING;', 'CREDIT_SERASA_MINIMUM_SHARE: STRING;', 'HIGHER_SERASA_SCORE: STRING;', 'LOWER_SERASA_SCORE: STRING;', 'HIGHER_SERASA_PRESUMED_INCOME: STRING;', 'LOWER_SERASA_PRESUMED_INCOME: STRING;', 'RENTAL_PRICE: STRING;', 'datastream_metadata: RECORD;', 'HIGHER_SERASA_DEBTS: STRING;', 'TOTAL_DEBTS: STRING;']\\n                }\\n            \\n                ##########\\n                TABLE ProdReplica.public_antifraud_pf_serasa {\\n                    ['id: STRING;', 'approved: BOOLEAN;', 'elapsed_time: FLOAT;', 'message: STRING;', 'valid: BOOLEAN;', 'content: JSON;', 'analysis_id: STRING;', 'tries: INTEGER;', 'loading: BOOLEAN;', 'created_at: TIMESTAMP;', 'updated_at: TIMESTAMP;', 'datastream_metadata: RECORD;', 'cached: BOOLEAN;']\\n                }\\n            \\n                ##########\\n                TABLE ProdReplica.public_antifraud_pf_suspects {\\n                    ['id: STRING;', 'name: STRING;', 'doc: STRING;', 'deleted: BOOLEAN;', 'created_at: TIMESTAMP;', 'updated_at: TIMESTAMP;', 'datastream_metadata: RECORD;']\\n                }\\n            \\n                ##########\\n                TABLE ProdReplica.public_antifraud_pf_suspects_details {\\n                    ['id: STRING;', 'suspect_id: STRING;', 'user_id: STRING;', 'reason: STRING;', 'valid: BOOLEAN;', 'fraud: BOOLEAN;', 'others: BOOLEAN;', 'others_type: STRING;', 'deleted: BOOLEAN;', 'created_at: TIMESTAMP;', 'updated_at: TIMESTAMP;', 'vehicle_damages: BOOLEAN;', 'credit_default: BOOLEAN;', 'datastream_metadata: RECORD;']\\n                }\\n            \\n                ##########\\n                TABLE ProdReplica.public_antifraud_pj {\\n                    ['id: STRING;', 'user_id: STRING;', 'deleted: BOOLEAN;', 'created_at: TIMESTAMP;', 'updated_at: TIMESTAMP;', 'cnpj: STRING;', 'antifraud_pj_suspectsId: STRING;', 'accepted: BOOLEAN;', 'status: STRING;', 'datastream_metadata: RECORD;', 'cached: BOOLEAN;', 'partner_id: STRING;']\\n                }\\n            \\n                ##########\\n                TABLE ProdReplica.public_antifraud_pj_activity {\\n                    ['id: STRING;', 'approved: BOOLEAN;', 'message: STRING;', 'tries: INTEGER;', 'valid: BOOLEAN;', 'content: JSON;', 'analysis_id: STRING;', 'created_at: TIMESTAMP;', 'updated_at: TIMESTAMP;', 'elapsed_time: FLOAT;', 'loading: BOOLEAN;', 'datastream_metadata: RECORD;', 'cached: BOOLEAN;']\\n                }\\n            \\n                ##########\\n                TABLE ProdReplica.public_antifraud_pj_addresses {\\n                    ['id: STRING;', 'approved: BOOLEAN;', 'message: STRING;', 'tries: INTEGER;', 'valid: BOOLEAN;', 'analysis_id: STRING;', 'created_at: TIMESTAMP;', 'updated_at: TIMESTAMP;', 'elapsed_time: FLOAT;', 'loading: BOOLEAN;', 'content: JSON;', 'datastream_metadata: RECORD;', 'cached: BOOLEAN;']\\n                }\\n            \\n                ##########\\n                TABLE ProdReplica.public_antifraud_pj_basic_data {\\n                    ['id: STRING;', 'approved: BOOLEAN;', 'message: STRING;', 'tries: INTEGER;', 'valid: BOOLEAN;', 'content: JSON;', 'analysis_id: STRING;', 'created_at: TIMESTAMP;', 'updated_at: TIMESTAMP;', 'elapsed_time: FLOAT;', 'loading: BOOLEAN;', 'datastream_metadata: RECORD;', 'cached: BOOLEAN;']\\n                }\\n            \\n                ##########\\n                TABLE ProdReplica.public_antifraud_pj_credit {\\n                    ['id: STRING;', 'approved: BOOLEAN;', 'message: STRING;', 'tries: INTEGER;', 'valid: BOOLEAN;', 'content: JSON;', 'analysis_id: STRING;', 'created_at: TIMESTAMP;', 'updated_at: TIMESTAMP;', 'elapsed_time: FLOAT;', 'loading: BOOLEAN;', 'datastream_metadata: RECORD;', 'cached: BOOLEAN;']\\n                }\\n            \\n                ##########\\n                TABLE ProdReplica.public_antifraud_pj_credit_advanced {\\n                    ['id: STRING;', 'approved: BOOLEAN;', 'elapsed_time: FLOAT;', 'message: STRING;', 'tries: INTEGER;', 'valid: BOOLEAN;', 'loading: BOOLEAN;', 'content: JSON;', 'analysis_id: STRING;', 'created_at: TIMESTAMP;', 'updated_at: TIMESTAMP;', 'datastream_metadata: RECORD;', 'cached: BOOLEAN;']\\n                }\\n            \\n                ##########\\n                TABLE ProdReplica.public_antifraud_pj_feedback {\\n                    ['id: STRING;', 'cnpj: STRING;', 'content: STRING;', 'user_id: STRING;', 'deleted: BOOLEAN;', 'created_at: TIMESTAMP;', 'updated_at: TIMESTAMP;', 'datastream_metadata: RECORD;']\\n                }\\n            \\n                ##########\\n                TABLE ProdReplica.public_antifraud_pj_law_suits {\\n                    ['id: STRING;', 'approved: BOOLEAN;', 'message: STRING;', 'tries: INTEGER;', 'valid: BOOLEAN;', 'content: JSON;', 'analysis_id: STRING;', 'created_at: TIMESTAMP;', 'updated_at: TIMESTAMP;', 'elapsed_time: FLOAT;', 'loading: BOOLEAN;', 'datastream_metadata: RECORD;', 'cached: BOOLEAN;']\\n                }\\n            \\n                ##########\\n                TABLE ProdReplica.public_antifraud_pj_partners_law_suits {\\n                    ['id: STRING;', 'approved: BOOLEAN;', 'message: STRING;', 'tries: INTEGER;', 'valid: BOOLEAN;', 'analysis_id: STRING;', 'created_at: TIMESTAMP;', 'updated_at: TIMESTAMP;', 'elapsed_time: FLOAT;', 'content: JSON;', 'loading: BOOLEAN;', 'datastream_metadata: RECORD;', 'cached: BOOLEAN;']\\n                }\\n            \\n                ##########\\n                TABLE ProdReplica.public_antifraud_pj_protests {\\n                    ['id: STRING;', 'approved: BOOLEAN;', 'message: STRING;', 'tries: INTEGER;', 'valid: BOOLEAN;', 'content: JSON;', 'analysis_id: STRING;', 'created_at: TIMESTAMP;', 'updated_at: TIMESTAMP;', 'elapsed_time: FLOAT;', 'loading: BOOLEAN;', 'datastream_metadata: RECORD;', 'cached: BOOLEAN;']\\n                }\\n            \\n                ##########\\n                TABLE ProdReplica.public_antifraud_pj_relations {\\n                    ['id: STRING;', 'approved: BOOLEAN;', 'message: STRING;', 'tries: INTEGER;', 'valid: BOOLEAN;', 'content: JSON;', 'analysis_id: STRING;', 'created_at: TIMESTAMP;', 'updated_at: TIMESTAMP;', 'elapsed_time: FLOAT;', 'loading: BOOLEAN;', 'datastream_metadata: RECORD;', 'cached: BOOLEAN;']\\n                }\\n            \\n                ##########\\n                TABLE ProdReplica.public_antifraud_pj_suspects {\\n                    ['id: STRING;', 'doc: STRING;', 'deleted: BOOLEAN;', 'created_at: TIMESTAMP;', 'updated_at: TIMESTAMP;', 'datastream_metadata: RECORD;']\\n                }\\n            \\n                ##########\\n                TABLE ProdReplica.public_antifraud_pj_suspects_details {\\n                    ['id: STRING;', 'suspect_id: STRING;', 'user_id: STRING;', 'reason: STRING;', 'valid: BOOLEAN;', 'credit_default: BOOLEAN;', 'fraud: BOOLEAN;', 'vehicle_damages: BOOLEAN;', 'others: BOOLEAN;', 'others_type: STRING;', 'deleted: BOOLEAN;', 'created_at: TIMESTAMP;', 'updated_at: TIMESTAMP;', 'datastream_metadata: RECORD;']\\n                }\\n            \\n                ##########\\n                TABLE ProdReplica.public_arrivement_inspection {\\n                    ['id: STRING;', 'inspection_id: STRING;', 'customer_agreement: BOOLEAN;', 'customer_signature: STRING;', 'windows: BOOLEAN;', 'head_rest: BOOLEAN;', 'car_document: BOOLEAN;', 'car_jack: BOOLEAN;', 'spare_tire: BOOLEAN;', 'baby_chair: BOOLEAN;', 'key: BOOLEAN;', 'fire_extinguisher: BOOLEAN;', 'windshield_wiper: BOOLEAN;', 'seat_belt: BOOLEAN;', 'created_at: TIMESTAMP;', 'updated_at: TIMESTAMP;', 'datastream_metadata: RECORD;']\\n                }\\n            \\n                ##########\\n                TABLE ProdReplica.public_branch {\\n                    ['id: STRING;', 'name: STRING;', 'zip: STRING;', 'description: STRING;', 'company_id: STRING;', 'created_at: TIMESTAMP;', 'updated_at: TIMESTAMP;', 'deleted: BOOLEAN;', 'antifraud_pf_evaluation: BOOLEAN;', 'antifraud_pf_rental_price: BOOLEAN;', 'city: STRING;', 'ibge_code: STRING;', 'state: STRING;', 'datastream_metadata: RECORD;', 'pre_booked_enabled: BOOLEAN;', 'tracking_enabled: BOOLEAN;']\\n                }\\n            \\n                ##########\\n                TABLE ProdReplica.public_branch_work_period {\\n                    ['id: STRING;', 'branch_id: STRING;', 'start_time: STRING;', 'end_time: STRING;', 'created_at: TIMESTAMP;', 'updated_at: TIMESTAMP;', 'deleted: BOOLEAN;', 'timezone_id: STRING;', 'day: STRING;', 'datastream_metadata: RECORD;']\\n                }\\n            \\n                ##########\\n                TABLE ProdReplica.public_broker {\\n                    ['id: STRING;', 'cnpj: STRING;', 'name: STRING;', 'susep_code: STRING;', 'zip: STRING;', 'photo: STRING;', 'created_at: TIMESTAMP;', 'updated_at: TIMESTAMP;', 'deleted: BOOLEAN;', 'datastream_metadata: RECORD;']\\n                }\\n            \\n                ##########\\n                TABLE ProdReplica.public_campaign {\\n                    ['id: STRING;', 'name: STRING;', 'antifraud_commission: FLOAT;', 'description: STRING;', 'created_at: TIMESTAMP;', 'updated_at: TIMESTAMP;', 'additional_coverages_commission: FLOAT;', 'roadside_commission: FLOAT;', 'is_legacy: BOOLEAN;', 'datastream_metadata: RECORD;']\\n                }\\n            \\n                ##########\\n                TABLE ProdReplica.public_charges {\\n                    ['id: STRING;', 'company_id: STRING;', 'antifraud: FLOAT;', 'additional_coverages: FLOAT;', 'roadside: FLOAT;', 'total: FLOAT;', 'mgm_discount: FLOAT;', 'erp_sale_id: STRING;', 'created_at: TIMESTAMP;', 'discount_reason: STRING;', 'due_at: TIMESTAMP;', 'extra_discount: FLOAT;', 'monthly_fee: FLOAT;', 'nfe_rps_number: STRING;', 'datastream_metadata: RECORD;']\\n                }\\n            \\n                ##########\\n                TABLE ProdReplica.public_company {\\n                    ['id: STRING;', 'erp_client_id: STRING;', 'name: STRING;', 'trade_name: STRING;', 'cnpj: STRING;', 'zip: STRING;', 'phone: STRING;', 'financial_mail: STRING;', 'signed_on: TIMESTAMP;', 'payment_term: INTEGER;', 'preferred_day: INTEGER;', 'plan_id: STRING;', 'antifraud: BOOLEAN;', 'do_insurance: STRING;', 'management_system: STRING;', 'mgm_key: STRING;', 'indicated_at: TIMESTAMP;', 'indicated_by: STRING;', 'created_at: TIMESTAMP;', 'updated_at: TIMESTAMP;', 'deleted: BOOLEAN;', 'charge_from: TIMESTAMP;', 'legacy_id: STRING;', 'fleet: STRING;', 'category: STRING;', 'churn_date: TIMESTAMP;', 'churn_reason: STRING;', 'free_facial_biometry: INTEGER;', 'free_financial_advanced: INTEGER;', 'free_financial_simple: INTEGER;', 'free_tier: BOOLEAN;', 'prorata: BOOLEAN;', 'inspection: BOOLEAN;', 'pj_free_essential: INTEGER;', 'pj_free_financial_advanced: INTEGER;', 'pj_free_financial_simple: INTEGER;', 'serasa_credentials: STRING;', 'free_essential: INTEGER;', 'free_financial_serasa: INTEGER;', 'hubspot_id: STRING;', 'wpp_financial_id: STRING;', 'wpp_group_id: STRING;', 'serasa: BOOLEAN;', 'blocked_access: BOOLEAN;', 'insurance: BOOLEAN;', 'city: STRING;', 'ibge_code: STRING;', 'state: STRING;', 'datastream_metadata: RECORD;', 'legal_representative_cpf: STRING;', 'legal_representative_name: STRING;', 'legal_representative_email: STRING;', 'legal_representative_phone: STRING;']\\n                }\\n            \\n                ##########\\n                TABLE ProdReplica.public_company_category {\\n                    ['id: STRING;', 'name: STRING;', 'created: TIMESTAMP;', 'updated: TIMESTAMP;', 'deleted: BOOLEAN;', 'company_id: STRING;', 'datastream_metadata: RECORD;']\\n                }\\n            \\n                ##########\\n                TABLE ProdReplica.public_company_contacts {\\n                    ['id: STRING;', 'company_id: STRING;', 'name: STRING;', 'email: STRING;', 'phone: STRING;', 'wpp_id: STRING;', 'created_at: TIMESTAMP;', 'updated_at: TIMESTAMP;', 'datastream_metadata: RECORD;']\\n                }\\n            \\n                ##########\\n                TABLE ProdReplica.public_contract {\\n                    ['id: STRING;', 'company_id: STRING;', 'person_id: STRING;', 'type: STRING;', 'code: STRING;', 'sequence: INTEGER;', 'from: TIMESTAMP;', 'due_to: TIMESTAMP;', 'signed_at: TIMESTAMP;', 'value: FLOAT;', 'payment_status: STRING;', 'payment_due: TIMESTAMP;', 'overdue: BOOLEAN;', 'datastream_metadata: RECORD;']\\n                }\\n            \\n                ##########\\n                TABLE ProdReplica.public_contract_claim {\\n                    ['id: STRING;', 'plate: STRING;', 'contract_id: STRING;', 'claim_nr: STRING;', 'occurrence_date: TIMESTAMP;', 'victims: BOOLEAN;', 'description: STRING;', 'self_blame: BOOLEAN;', 'third_party_blame: BOOLEAN;', 'is_driver_responsible: BOOLEAN;', 'third_party_plates: JSON;', 'inserted_at: TIMESTAMP;', 'datastream_metadata: RECORD;', 'claim_value: FLOAT;']\\n                }\\n            \\n                ##########\\n                TABLE ProdReplica.public_contract_claim_document {\\n                    ['id: STRING;', 'claim_id: STRING;', 'title: STRING;', 'type: STRING;', 'url: STRING;', 'inserted_at: TIMESTAMP;', 'datastream_metadata: RECORD;']\\n                }\\n            \\n                ##########\\n                TABLE ProdReplica.public_contract_infraction {\\n                    ['id: STRING;', 'contract_id: STRING;', 'infraction_nr: STRING;', 'occurrence_date: TIMESTAMP;', 'plate: STRING;', 'infraction_document: STRING;', 'infraction_code: STRING;', 'infraction_description: STRING;', 'infraction_severity: INTEGER;', 'infraction_points: INTEGER;', 'inserted_at: TIMESTAMP;', 'updated_at: TIMESTAMP;', 'datastream_metadata: RECORD;']\\n                }\\n            \\n                ##########\\n                TABLE ProdReplica.public_contract_vehicles {\\n                    ['id: STRING;', 'plate: STRING;', 'contract_id: STRING;', 'inserted_at: TIMESTAMP;', 'removed_at: TIMESTAMP;', 'datastream_metadata: RECORD;']\\n                }\\n            \\n                ##########\\n                TABLE ProdReplica.public_customer {\\n                    ['id: STRING;', 'cpf: STRING;', 'phone: STRING;', 'email: STRING;', 'created_at: TIMESTAMP;', 'updated_at: TIMESTAMP;', 'deleted: BOOLEAN;', 'datastream_metadata: RECORD;', 'document: STRING;', 'name: STRING;', 'group_id: STRING;']\\n                }\\n            \\n                ##########\\n                TABLE ProdReplica.public_customer_field {\\n                    ['id: STRING;', 'name: STRING;', 'value: STRING;', 'customer_id: STRING;', 'deleted: BOOLEAN;', 'created_at: TIMESTAMP;', 'updated_at: TIMESTAMP;', 'value_type: STRING;', 'datastream_metadata: RECORD;']\\n                }\\n            \\n                ##########\\n                TABLE ProdReplica.public_customer_group {\\n                    ['id: STRING;', 'entity_type: STRING;', 'name: STRING;', 'branch_id: STRING;', 'deleted: BOOLEAN;', 'created_at: TIMESTAMP;', 'updated_at: TIMESTAMP;', 'datastream_metadata: RECORD;']\\n                }\\n            \\n                ##########\\n                TABLE ProdReplica.public_departure_inspection {\\n                    ['id: STRING;', 'inspection_id: STRING;', 'customer_agreement: BOOLEAN;', 'customer_signature: STRING;', 'windows: BOOLEAN;', 'head_rest: BOOLEAN;', 'car_document: BOOLEAN;', 'car_jack: BOOLEAN;', 'spare_tire: BOOLEAN;', 'baby_chair: BOOLEAN;', 'key: BOOLEAN;', 'fire_extinguisher: BOOLEAN;', 'windshield_wiper: BOOLEAN;', 'seat_belt: BOOLEAN;', 'created_at: TIMESTAMP;', 'updated_at: TIMESTAMP;', 'datastream_metadata: RECORD;']\\n                }\\n            \\n                ##########\\n                TABLE ProdReplica.public_departure_inspection_picture {\\n                    ['id: STRING;', 'departure_id: STRING;', 'title: STRING;', 'desc: STRING;', 'lat: STRING;', 'long: STRING;', 'raw: STRING;', 'picture: STRING;', 'created_at: TIMESTAMP;', 'updated_at: TIMESTAMP;', 'taked_at: STRING;', 'datastream_metadata: RECORD;']\\n                }\\n            \\n                ##########\\n                TABLE ProdReplica.public_endorsement {\\n                    ['id: STRING;', 'policy_id: STRING;', 'signed_file: STRING;', 'unsined_file: STRING;', 'payed: BOOLEAN;', 'signed_at: TIMESTAMP;', 'sign_code: STRING;', 'created_at: TIMESTAMP;', 'updated_at: TIMESTAMP;', 'issued_at: TIMESTAMP;', 'start_date: TIMESTAMP;', 'end_ate: TIMESTAMP;', 'type: STRING;', 'expired_at: TIMESTAMP;', 'status: STRING;', 'code: STRING;', 'datastream_metadata: RECORD;', 'end_date: TIMESTAMP;', 'proposal_code: STRING;']\\n                }\\n            \\n                ##########\\n                TABLE ProdReplica.public_fingerprint {\\n                    ['id: STRING;', 'ip: STRING;', 'header_accept: STRING;', 'header_language: STRING;', 'browser_name: STRING;', 'browser_version: STRING;', 'device_family: STRING;', 'device_version: STRING;', 'os_name: STRING;', 'os_version: STRING;', 'created_at: TIMESTAMP;', 'updated_at: TIMESTAMP;', 'deleted: BOOLEAN;', 'datastream_metadata: RECORD;']\\n                }\\n            \\n                ##########\\n                TABLE ProdReplica.public_frequency_endorsements {\\n                    ['id: STRING;', 'pdf: STRING;', 'policy_id: STRING;', 'premium: FLOAT;', 'type: STRING;', 'issued_at: TIMESTAMP;', 'created_at: TIMESTAMP;', 'updated_at: TIMESTAMP;', 'datastream_metadata: RECORD;']\\n                }\\n            \\n                ##########\\n                TABLE ProdReplica.public_frequency_insurance_policy {\\n                    ['id: STRING;', 'company_id: STRING;', 'issued_at: TIMESTAMP;', 'due_to: TIMESTAMP;', 'created_at: TIMESTAMP;', 'updated_at: TIMESTAMP;', 'deleted: BOOLEAN;', 'datastream_metadata: RECORD;']\\n                }\\n            \\n                ##########\\n                TABLE ProdReplica.public_frequency_insured_vehicles {\\n                    ['id: STRING;', 'policy_id: STRING;', 'vehicle_id: STRING;', 'created_at: TIMESTAMP;', 'updated_at: TIMESTAMP;', 'datastream_metadata: RECORD;', 'covered_at: TIMESTAMP;']\\n                }\\n            \\n                ##########\\n                TABLE ProdReplica.public_frequency_insured_vehicles_coverages {\\n                    ['id: STRING;', 'insured_vehicle_id: STRING;', 'premium: FLOAT;', 'coverage: STRING;', 'deductible: FLOAT;', 'iof: FLOAT;', 'lmi: FLOAT;', 'lmg: FLOAT;', 'datastream_metadata: RECORD;']\\n                }\\n            \\n                ##########\\n                TABLE ProdReplica.public_frequency_police_claims {\\n                    ['id: STRING;', 'vehicle_id: STRING;', 'policy_id: STRING;', 'coverage: STRING;', 'value: FLOAT;', 'opened_at: TIMESTAMP;', 'opened_by: STRING;', 'description: STRING;', 'status: STRING;', 'code: STRING;', 'created_at: TIMESTAMP;', 'updated_at: TIMESTAMP;', 'address: STRING;', 'claimed_vehicle: STRING;', 'driver_document: STRING;', 'driver_name: STRING;', 'occurred_at: TIMESTAMP;', 'paid_at: TIMESTAMP;', 'provisioned_value: FLOAT;', 'size: STRING;', 'datastream_metadata: RECORD;', 'third_party_name: JSON;', 'third_party_contacted: BOOLEAN;', 'realized_inspections: JSON;', 'agreement_value: STRING;', 'third_party_received_documents: JSON;', 'base_budget_value: STRING;', 'inspection_date: TIMESTAMP;', 'max_budget_value: STRING;', 'agreement_accepted: BOOLEAN;']\\n                }\\n            \\n                ##########\\n                TABLE ProdReplica.public_frequency_police_claims_status_history {\\n                    ['id: STRING;', 'status: STRING;', 'claim_id: STRING;', 'moved_in: TIMESTAMP;', 'moved_out: TIMESTAMP;', 'datastream_metadata: RECORD;']\\n                }\\n            \\n                ##########\\n                TABLE ProdReplica.public_frequency_policy_claims_files {\\n                    ['id: STRING;', 'claim_id: STRING;', 'location: STRING;', 'mimetype: STRING;', 'filetype: STRING;', 'created_at: TIMESTAMP;', 'updated_at: TIMESTAMP;', 'datastream_metadata: RECORD;']\\n                }\\n            \\n                ##########\\n                TABLE ProdReplica.public_frequency_policy_claims_pictures {\\n                    ['id: STRING;', 'claim_id: STRING;', 'picture: STRING;', 'created_at: TIMESTAMP;', 'datastream_metadata: RECORD;']\\n                }\\n            \\n                ##########\\n                TABLE ProdReplica.public_frequency_policy_items_history {\\n                    ['id: STRING;', 'policy_id: STRING;', 'vehicle_id: STRING;', 'added_at: TIMESTAMP;', 'removed_at: TIMESTAMP;', 'add_endorsement_id: STRING;', 'lmg_increment: FLOAT;', 'premium_increment: FLOAT;', 'remove_endorsement_id: STRING;', 'restitution_lmg: FLOAT;', 'restitution_premium: FLOAT;', 'started_lmg: FLOAT;', 'started_premium: FLOAT;', 'datastream_metadata: RECORD;']\\n                }\\n            \\n                ##########\\n                TABLE ProdReplica.public_frequency_policy_triggers {\\n                    ['id: STRING;', 'policy_id: STRING;', 'price: FLOAT;', 'created_at: TIMESTAMP;', 'datastream_metadata: RECORD;', 'trigger: FLOAT;', 'sequence: INTEGER;', 'premium_per_item: FLOAT;', 'lmg_per_item: FLOAT;']\\n                }\\n            \\n                ##########\\n                TABLE ProdReplica.public_frequency_policy_triggers_history {\\n                    ['id: STRING;', 'policy_id: STRING;', 'trigger_id: STRING;', 'lmg: FLOAT;', 'premium: FLOAT;', 'started_at: TIMESTAMP;', 'ended_at: TIMESTAMP;', 'datastream_metadata: RECORD;']\\n                }\\n            \\n                ##########\\n                TABLE ProdReplica.public_inspection {\\n                    ['id: STRING;', 'vehicle_id: STRING;', 'user_id: STRING;', 'customer_id: STRING;', 'status: STRING;', 'from_date: STRING;', 'till_date: STRING;', 'created_at: TIMESTAMP;', 'updated_at: TIMESTAMP;', 'datastream_metadata: RECORD;']\\n                }\\n            \\n                ##########\\n                TABLE ProdReplica.public_inspection_checklist_fields {\\n                    ['id: STRING;', 'title: STRING;', 'template_id: STRING;', 'created_at: TIMESTAMP;', 'updated_at: TIMESTAMP;', 'datastream_metadata: RECORD;']\\n                }\\n            \\n                ##########\\n                TABLE ProdReplica.public_inspection_checklist_values {\\n                    ['id: STRING;', 'response_id: STRING;', 'field_id: STRING;', 'value: BOOLEAN;', 'description: STRING;', 'created_at: TIMESTAMP;', 'updated_at: TIMESTAMP;', 'deleted: BOOLEAN;', 'datastream_metadata: RECORD;']\\n                }\\n            \\n                ##########\\n                TABLE ProdReplica.public_inspection_general_fields {\\n                    ['id: STRING;', 'title: STRING;', 'template_id: STRING;', 'created_at: TIMESTAMP;', 'updated_at: TIMESTAMP;', 'type: STRING;', 'sequence: INTEGER;', 'datastream_metadata: RECORD;']\\n                }\\n            \\n                ##########\\n                TABLE ProdReplica.public_inspection_general_values {\\n                    ['id: STRING;', 'response_id: STRING;', 'field_id: STRING;', 'value: STRING;', 'created_at: TIMESTAMP;', 'updated_at: TIMESTAMP;', 'datastream_metadata: RECORD;']\\n                }\\n            \\n                ##########\\n                TABLE ProdReplica.public_inspection_picture_fields {\\n                    ['id: STRING;', 'title: STRING;', 'template_id: STRING;', 'created_at: TIMESTAMP;', 'updated_at: TIMESTAMP;', 'help_image: STRING;', 'description: STRING;', 'is_first: BOOLEAN;', 'is_last: BOOLEAN;', 'sequence: INTEGER;', 'datastream_metadata: RECORD;']\\n                }\\n            \\n                ##########\\n                TABLE ProdReplica.public_inspection_picture_values {\\n                    ['id: STRING;', 'response_id: STRING;', 'field_id: STRING;', 'created_at: TIMESTAMP;', 'updated_at: TIMESTAMP;', 'description: STRING;', 'lat: STRING;', 'deleted: BOOLEAN;', 'long: STRING;', 'taked_at: STRING;', 'raw_image: STRING;', 'edited_image: STRING;', 'datastream_metadata: RECORD;']\\n                }\\n            \\n                ##########\\n                TABLE ProdReplica.public_inspection_response {\\n                    ['id: STRING;', 'vehicle_id: STRING;', 'template_id: STRING;', 'pdf: STRING;', 'updated_at: TIMESTAMP;', 'created_at: TIMESTAMP;', 'datastream_metadata: RECORD;']\\n                }\\n            \\n                ##########\\n                TABLE ProdReplica.public_inspection_signature_fields {\\n                    ['id: STRING;', 'title: STRING;', 'template_id: STRING;', 'created_at: TIMESTAMP;', 'updated_at: TIMESTAMP;', 'sequence: INTEGER;', 'type: STRING;', 'datastream_metadata: RECORD;']\\n                }\\n            \\n                ##########\\n                TABLE ProdReplica.public_inspection_signature_values {\\n                    ['id: STRING;', 'response_id: STRING;', 'field_id: STRING;', 'value: STRING;', 'accepted_terms: BOOLEAN;', 'created_at: TIMESTAMP;', 'updated_at: TIMESTAMP;', 'deleted: BOOLEAN;', 'datastream_metadata: RECORD;']\\n                }\\n            \\n                ##########\\n                TABLE ProdReplica.public_inspection_template {\\n                    ['id: STRING;', 'title: STRING;', 'key: STRING;', 'public: BOOLEAN;', 'sequence: INTEGER;', 'color: STRING;', 'logo: STRING;', 'branch_id: STRING;', 'updated_at: TIMESTAMP;', 'created_at: TIMESTAMP;', 'deleted: BOOLEAN;', 'datastream_metadata: RECORD;']\\n                }\\n            \\n                ##########\\n                TABLE ProdReplica.public_insurance_charge {\\n                    ['id: STRING;', 'code: STRING;', 'value: FLOAT;', 'net_value: FLOAT;', 'due_to: TIMESTAMP;', 'paid_at: TIMESTAMP;', 'issued_at: TIMESTAMP;', 'sequence: INTEGER;', 'invoice_url: STRING;', 'method: STRING;', 'endorsement_id: STRING;', 'datastream_metadata: RECORD;']\\n                }\\n            \\n                ##########\\n                TABLE ProdReplica.public_insurance_customer_approvement_pf {\\n                    ['id: STRING;', 'unapproved: BOOLEAN;', 'created_at: TIMESTAMP;', 'updated_at: TIMESTAMP;', 'analysis_id: STRING;', 'awared: BOOLEAN;', 'loading: BOOLEAN;', 'datastream_metadata: RECORD;', 'reasons: JSON;']\\n                }\\n            \\n                ##########\\n                TABLE ProdReplica.public_insurance_customer_dispute_pf {\\n                    ['id: STRING;', 'reason: STRING;', 'response: STRING;', 'created_at: TIMESTAMP;', 'updated_at: TIMESTAMP;', 'deleted: BOOLEAN;', 'approvement_id: STRING;', 'datastream_metadata: RECORD;']\\n                }\\n            \\n                ##########\\n                TABLE ProdReplica.public_insurance_policy {\\n                    ['id: STRING;', 'entity_type: STRING;', 'quote_id: STRING;', 'father_policy_id: STRING;', 'signature_code: STRING;', 'signed_at: TIMESTAMP;', 'issued_at: TIMESTAMP;', 'valid_from: TIMESTAMP;', 'valid_through: TIMESTAMP;', 'payed_at: TIMESTAMP;', 'payment_method: STRING;', 'gross_premium: FLOAT;', 'iof: FLOAT;', 'net_premium: FLOAT;', 'created_at: TIMESTAMP;', 'updated_at: TIMESTAMP;', 'deleted: BOOLEAN;', 'phase_id: STRING;', 'insurer_policy_code: STRING;', 'datastream_metadata: RECORD;']\\n                }\\n            \\n                ##########\\n                TABLE ProdReplica.public_insurance_policy_phases {\\n                    ['id: STRING;', 'product_id: STRING;', 'title: STRING;', 'description: STRING;', 'sequence: INTEGER;', 'created_at: TIMESTAMP;', 'updated_at: TIMESTAMP;', 'deleted: BOOLEAN;', 'datastream_metadata: RECORD;', 'expires_in: INTEGER;']\\n                }\\n            \\n                ##########\\n                TABLE ProdReplica.public_insurance_policy_phases_history {\\n                    ['id: STRING;', 'phase_id: STRING;', 'policy_id: STRING;', 'description: STRING;', 'moved_out: TIMESTAMP;', 'moved_in: TIMESTAMP;', 'created_at: TIMESTAMP;', 'updated_at: TIMESTAMP;', 'deleted: BOOLEAN;', 'datastream_metadata: RECORD;']\\n                }\\n            \\n                ##########\\n                TABLE ProdReplica.public_insurance_policy_signatures {\\n                    ['id: STRING;', 'policy_id: STRING;', 'signature_ip: STRING;', 'signature_user_agent: STRING;', 'signature_device: STRING;', 'signature_geoloc: STRING;', 'created_at: TIMESTAMP;', 'datastream_metadata: RECORD;']\\n                }\\n            \\n                ##########\\n                TABLE ProdReplica.public_insurance_product {\\n                    ['id: STRING;', 'insurer_id: STRING;', 'name: STRING;', 'general_conditions: STRING;', 'actuarial_note: STRING;', 'susep_process_code: STRING;', 'created_at: TIMESTAMP;', 'updated_at: TIMESTAMP;', 'deleted: BOOLEAN;', 'datastream_metadata: RECORD;']\\n                }\\n            \\n                ##########\\n                TABLE ProdReplica.public_insurance_product_coverages {\\n                    ['id: STRING;', 'product_id: STRING;', 'title: STRING;', 'created_at: TIMESTAMP;', 'updated_at: TIMESTAMP;', 'deleted: BOOLEAN;', 'datastream_metadata: RECORD;']\\n                }\\n            \\n                ##########\\n                TABLE ProdReplica.public_insurance_quote_coverages {\\n                    ['id: STRING;', 'max_individual_lmi: FLOAT;', 'stop_loss: FLOAT;', 'total_gross_premium: FLOAT;', 'total_iof: FLOAT;', 'total_net_premium: FLOAT;', 'quote_id: STRING;', 'deleted: BOOLEAN;', 'created_at: TIMESTAMP;', 'updated_at: TIMESTAMP;', 'coverage_id: STRING;', 'datastream_metadata: RECORD;']\\n                }\\n            \\n                ##########\\n                TABLE ProdReplica.public_insurance_quote_shares {\\n                    ['id: STRING;', 'quote_id: STRING;', 'title: STRING;', 'type: STRING;', 'entity: STRING;', 'created_at: TIMESTAMP;', 'updated_at: TIMESTAMP;', 'deleted: BOOLEAN;', 'amount: FLOAT;', 'datastream_metadata: RECORD;']\\n                }\\n            \\n                ##########\\n                TABLE ProdReplica.public_insurance_quote_vehicle_item {\\n                    ['id: STRING;', 'quote_id: STRING;', 'vehicle_id: STRING;', 'fipe_reference: STRING;', 'fipe_value: FLOAT;', 'region_id: STRING;', 'overnight_zip: STRING;', 'risk_type: STRING;', 'created_at: TIMESTAMP;', 'updated_at: TIMESTAMP;', 'deleted: BOOLEAN;', 'datastream_metadata: RECORD;']\\n                }\\n            \\n                ##########\\n                TABLE ProdReplica.public_insurance_quotes {\\n                    ['id: STRING;', 'product_id: STRING;', 'company_id: STRING;', 'broker_id: STRING;', 'created_at: TIMESTAMP;', 'updated_at: TIMESTAMP;', 'deleted: BOOLEAN;', 'phase_id: STRING;', 'pdf: STRING;', 'datastream_metadata: RECORD;']\\n                }\\n            \\n                ##########\\n                TABLE ProdReplica.public_insurance_quotes_item_coverages {\\n                    ['id: STRING;', 'item_id: STRING;', 'coverage_id: STRING;', 'lmi: FLOAT;', 'base_tax: FLOAT;', 'aggravation_factor: FLOAT;', 'adjustment_factor: FLOAT;', 'premium: FLOAT;', 'deductible: FLOAT;', 'created_at: TIMESTAMP;', 'updated_at: TIMESTAMP;', 'deleted: BOOLEAN;', 'datastream_metadata: RECORD;', 'insurance_quote_vehicle_itemId: STRING;']\\n                }\\n            \\n                ##########\\n                TABLE ProdReplica.public_insurance_quotes_phases {\\n                    ['id: STRING;', 'product_id: STRING;', 'title: STRING;', 'description: STRING;', 'sequence: INTEGER;', 'created_at: TIMESTAMP;', 'updated_at: TIMESTAMP;', 'deleted: BOOLEAN;', 'datastream_metadata: RECORD;']\\n                }\\n            \\n                ##########\\n                TABLE ProdReplica.public_insurance_quotes_phases_history {\\n                    ['id: STRING;', 'phase_id: STRING;', 'quote_id: STRING;', 'description: STRING;', 'moved_out: TIMESTAMP;', 'moved_in: TIMESTAMP;', 'created_at: TIMESTAMP;', 'updated_at: TIMESTAMP;', 'deleted: BOOLEAN;', 'datastream_metadata: RECORD;']\\n                }\\n            \\n                ##########\\n                TABLE ProdReplica.public_insured_item {\\n                    ['id: STRING;', 'inserted_at: TIMESTAMP;', 'code: STRING;', 'item_id: STRING;', 'datastream_metadata: RECORD;']\\n                }\\n            \\n                ##########\\n                TABLE ProdReplica.public_insured_item_coverage_history {\\n                    ['id: STRING;', 'insured_item_id: STRING;', 'coverage: STRING;', 'lmi: FLOAT;', 'lmi_str: STRING;', 'gross_premium: FLOAT;', 'deductible: FLOAT;', 'iof: FLOAT;', 'comission: FLOAT;', 'net_preimum: FLOAT;', 'lmg: FLOAT;', 'endorsement_id: STRING;', 'type: STRING;', 'inserted_at: TIMESTAMP;', 'datastream_metadata: RECORD;']\\n                }\\n            \\n                ##########\\n                TABLE ProdReplica.public_insured_item_coverages {\\n                    ['id: STRING;', 'insured_item_id: STRING;', 'coverage: STRING;', 'covered_at: TIMESTAMP;', 'lmi: FLOAT;', 'lmi_str: STRING;', 'gross_premium: FLOAT;', 'deductible: FLOAT;', 'iof: FLOAT;', 'comission: FLOAT;', 'net_preimum: FLOAT;', 'lmg: FLOAT;', 'endorsement_id: STRING;', 'last_update_endorsement_id: STRING;', 'removed_at: TIMESTAMP;', 'datastream_metadata: RECORD;']\\n                }\\n            \\n                ##########\\n                TABLE ProdReplica.public_insurer {\\n                    ['id: STRING;', 'cnpj: STRING;', 'name: STRING;', 'susep_code: STRING;', 'zip: STRING;', 'photo: STRING;', 'created_at: TIMESTAMP;', 'updated_at: TIMESTAMP;', 'deleted: BOOLEAN;', 'datastream_metadata: RECORD;']\\n                }\\n            \\n                ##########\\n                TABLE ProdReplica.public_management_system {\\n                    ['id: STRING;', 'name: STRING;', 'credentials: STRING;', 'company_id: STRING;', 'deleted: BOOLEAN;', 'created_at: TIMESTAMP;', 'updated_at: TIMESTAMP;', 'datastream_metadata: RECORD;', 'auto_update: BOOLEAN;']\\n                }\\n            \\n                ##########\\n                TABLE ProdReplica.public_notifications {\\n                    ['id: STRING;', 'title: STRING;', 'content: STRING;', 'created_at: TIMESTAMP;', 'updated_at: TIMESTAMP;', 'read: BOOLEAN;', 'user_id: STRING;', 'action: STRING;', 'context: STRING;', 'variant: STRING;', 'datastream_metadata: RECORD;']\\n                }\\n            \\n                ##########\\n                TABLE ProdReplica.public_nps {\\n                    ['id: STRING;', 'nps: INTEGER;', 'user_id: STRING;', 'comment: STRING;', 'suggestion: STRING;', 'created_at: TIMESTAMP;', 'updated_at: TIMESTAMP;', 'datastream_metadata: RECORD;']\\n                }\\n            \\n                ##########\\n                TABLE ProdReplica.public_onboarding_history {\\n                    ['id: STRING;', 'to_step_id: STRING;', 'from_step_id: STRING;', 'started_at: TIMESTAMP;', 'completed_at: TIMESTAMP;', 'deleted: BOOLEAN;', 'datastream_metadata: RECORD;']\\n                }\\n            \\n                ##########\\n                TABLE ProdReplica.public_onboarding_phase {\\n                    ['id: STRING;', 'title: STRING;', 'created_at: TIMESTAMP;', 'updated_at: TIMESTAMP;', 'deleted: BOOLEAN;', 'user_id: STRING;', 'datastream_metadata: RECORD;']\\n                }\\n            \\n                ##########\\n                TABLE ProdReplica.public_onboarding_step {\\n                    ['id: STRING;', 'completed: BOOLEAN;', 'sequence: INTEGER;', 'content: STRING;', 'phase_id: STRING;', 'created_at: TIMESTAMP;', 'updated_at: TIMESTAMP;', 'deleted: BOOLEAN;', 'is_last: BOOLEAN;', 'datastream_metadata: RECORD;']\\n                }\\n            \\n                ##########\\n                TABLE ProdReplica.public_partner {\\n                    ['id: STRING;', 'name: STRING;', 'email: STRING;', 'cnpj: STRING;', 'phone: STRING;', 'key: STRING;', 'created_at: TIMESTAMP;', 'updated_at: TIMESTAMP;', 'datastream_metadata: RECORD;']\\n                }\\n            \\n                ##########\\n                TABLE ProdReplica.public_partner_assignee {\\n                    ['id: STRING;', 'partner_id: STRING;', 'user_id: STRING;', 'valid: BOOLEAN;', 'requested_at: TIMESTAMP;', 'removed_at: TIMESTAMP;', 'assigned_at: TIMESTAMP;', 'datastream_metadata: RECORD;']\\n                }\\n            \\n                ##########\\n                TABLE ProdReplica.public_person {\\n                    ['id: STRING;', 'name: STRING;', 'document: STRING;', 'inserted_at: TIMESTAMP;', 'type: STRING;', 'datastream_metadata: RECORD;']\\n                }\\n            \\n                ##########\\n                TABLE ProdReplica.public_plans {\\n                    ['id: STRING;', 'name: STRING;', 'users_limit: INTEGER;', 'campaign_id: STRING;', 'created_at: TIMESTAMP;', 'updated_at: TIMESTAMP;', 'deleted: BOOLEAN;', 'branches_limit: INTEGER;', 'facial_biometry_price: FLOAT;', 'financial_advanced_price: FLOAT;', 'financial_simple_price: FLOAT;', 'public: BOOLEAN;', 'is_legacy: BOOLEAN;', 'pj_essential_price: FLOAT;', 'pj_financial_advanced_price: FLOAT;', 'pj_financial_simple_price: FLOAT;', 'antifraud_monthly_fee: FLOAT;', 'essential_price: FLOAT;', 'financial_serasa_price: FLOAT;', 'datastream_metadata: RECORD;', 'financial_simple_debts_only_price: FLOAT;', 'liveness_price: FLOAT;']\\n                }\\n            \\n                ##########\\n                TABLE ProdReplica.public_policy {\\n                    ['id: STRING;', 'status: STRING;', 'document: STRING;', 'company_id: STRING;', 'issued_at: TIMESTAMP;', 'created_at: TIMESTAMP;', 'updated_at: TIMESTAMP;', 'canceled_at: TIMESTAMP;', 'expired_at: TIMESTAMP;', 'type: STRING;', 'start_date: TIMESTAMP;', 'end_date: TIMESTAMP;', 'code: STRING;', 'proposal_code: STRING;', 'datastream_metadata: RECORD;']\\n                }\\n            \\n                ##########\\n                TABLE ProdReplica.public_policy_documents {\\n                    ['id: STRING;', 'type: STRING;', 'document: STRING;', 'issued_at: TIMESTAMP;', 'policy_id: STRING;', 'created_at: TIMESTAMP;', 'updated_at: TIMESTAMP;', 'deleted: BOOLEAN;', 'datastream_metadata: RECORD;']\\n                }\\n            \\n                ##########\\n                TABLE ProdReplica.public_policy_limit {\\n                    ['id: STRING;', 'coverage: STRING;', 'policy_id: STRING;', 'lmg_limit: FLOAT;', 'lmg_per_item: FLOAT;', 'gross_premium_per_item: FLOAT;', 'fixed_price: FLOAT;', 'created_at: TIMESTAMP;', 'updated_at: TIMESTAMP;', 'datastream_metadata: RECORD;']\\n                }\\n            \\n                ##########\\n                TABLE ProdReplica.public_pre_booked_fields {\\n                    ['id: STRING;', 'template_id: STRING;', 'title: STRING;', 'sequence: INTEGER;', 'is_first: BOOLEAN;', 'is_last: BOOLEAN;', 'created_at: TIMESTAMP;', 'updated_at: TIMESTAMP;', 'deleted: BOOLEAN;', 'type: STRING;', 'datastream_metadata: RECORD;', 'required: BOOLEAN;', 'enabled: BOOLEAN;', 'caption: STRING;', 'description: STRING;']\\n                }\\n            \\n                ##########\\n                TABLE ProdReplica.public_pre_booked_jobs {\\n                    ['id: STRING;', 'name: STRING;', 'created_at: TIMESTAMP;', 'updated_at: TIMESTAMP;', 'deleted: BOOLEAN;', 'datastream_metadata: RECORD;']\\n                }\\n            \\n                ##########\\n                TABLE ProdReplica.public_pre_booked_reasons {\\n                    ['id: STRING;', 'template_id: STRING;', 'title: STRING;', 'created_at: TIMESTAMP;', 'updated_at: TIMESTAMP;', 'deleted: BOOLEAN;', 'datastream_metadata: RECORD;']\\n                }\\n            \\n                ##########\\n                TABLE ProdReplica.public_pre_booked_responses {\\n                    ['id: STRING;', 'template_id: STRING;', 'status: STRING;', 'doc: STRING;', 'name: STRING;', 'created_at: TIMESTAMP;', 'updated_at: TIMESTAMP;', 'deleted: BOOLEAN;', 'datastream_metadata: RECORD;', 'fingerprint_id: STRING;']\\n                }\\n            \\n                ##########\\n                TABLE ProdReplica.public_pre_booked_templates {\\n                    ['id: STRING;', 'name: STRING;', 'branch_id: STRING;', 'warning: STRING;', 'key: STRING;', 'picture: STRING;', 'color: STRING;', 'created_at: TIMESTAMP;', 'updated_at: TIMESTAMP;', 'deleted: BOOLEAN;', 'datastream_metadata: RECORD;', 'entity_type: STRING;', 'user_id: STRING;']\\n                }\\n            \\n                ##########\\n                TABLE ProdReplica.public_pre_booked_values {\\n                    ['id: STRING;', 'field_id: STRING;', 'response_id: STRING;', 'value: STRING;', 'created_at: TIMESTAMP;', 'updated_at: TIMESTAMP;', 'deleted: BOOLEAN;', 'datastream_metadata: RECORD;']\\n                }\\n            \\n                ##########\\n                TABLE ProdReplica.public_services_roles {\\n                    ['id: STRING;', 'service: STRING;', 'role: STRING;', 'user_id: STRING;', 'created_at: TIMESTAMP;', 'updated_at: TIMESTAMP;', 'datastream_metadata: RECORD;']\\n                }\\n            \\n                ##########\\n                TABLE ProdReplica.public_susep_default_regions {\\n                    ['id: STRING;', 'title: STRING;', 'datastream_metadata: RECORD;']\\n                }\\n            \\n                ##########\\n                TABLE ProdReplica.public_timezone {\\n                    ['id: STRING;', 'name: STRING;', 'offset: INTEGER;', 'created_at: TIMESTAMP;', 'updated_at: TIMESTAMP;', 'deleted: BOOLEAN;', 'datastream_metadata: RECORD;']\\n                }\\n            \\n                ##########\\n                TABLE ProdReplica.public_tracking_alerts {\\n                    ['id: STRING;', 'plate: STRING;', 'origin: STRING;', 'type: STRING;', 'value: FLOAT;', 'muted: BOOLEAN;', 'triggered_at: TIMESTAMP;', 'deleted: BOOLEAN;', 'created_at: TIMESTAMP;', 'updated_at: TIMESTAMP;', 'datastream_metadata: RECORD;', 'rule_id: STRING;']\\n                }\\n            \\n                ##########\\n                TABLE ProdReplica.public_tracking_alerts_handlers {\\n                    ['id: STRING;', 'name: STRING;', 'datastream_metadata: RECORD;']\\n                }\\n            \\n                ##########\\n                TABLE ProdReplica.public_tracking_devices {\\n                    ['id: STRING;', 'name: STRING;', 'datastream_metadata: RECORD;', 'vehicleId: STRING;']\\n                }\\n            \\n                ##########\\n                TABLE ProdReplica.public_tracking_position_alert_rules {\\n                    ['id: STRING;', 'plate: STRING;', 'origin: STRING;', 'type: STRING;', 'value: FLOAT;', 'deleted: BOOLEAN;', 'created_at: TIMESTAMP;', 'updated_at: TIMESTAMP;', 'datastream_metadata: RECORD;']\\n                }\\n            \\n                ##########\\n                TABLE ProdReplica.public_tracking_reports {\\n                    ['id: STRING;', 'inputs: STRING;', 'outputs: STRING;', 'csv: STRING;', 'pdf: STRING;', 'user_id: STRING;', 'deleted: BOOLEAN;', 'created_at: TIMESTAMP;', 'updated_at: TIMESTAMP;', 'datastream_metadata: RECORD;', 'plates: JSON;', 'type: STRING;']\\n                }\\n            \\n                ##########\\n                TABLE ProdReplica.public_tracking_risk_events {\\n                    ['id: STRING;', 'plate: STRING;', 'type: STRING;', 'amount: FLOAT;', 'triggered_at: TIMESTAMP;', 'silenced: BOOLEAN;', 'datastream_metadata: RECORD;', 'positions: JSON;', 'started_at: DATE;']\\n                }\\n            \\n                ##########\\n                TABLE ProdReplica.public_traffic_camera_analysis {\\n                    ['id: STRING;', 'capture_date: TIMESTAMP;', 'image: STRING;', 'latitude: FLOAT;', 'longitude: FLOAT;', 'street: STRING;', 'street_number: STRING;', 'zip_code: STRING;', 'city: STRING;', 'state: STRING;', 'risk_area: BOOLEAN;', 'image_width: STRING;', 'image_height: STRING;', 'input_start_date: TIMESTAMP;', 'input_end_date: TIMESTAMP;', 'input_plate: STRING;', 'user_id: STRING;', 'datastream_metadata: RECORD;']\\n                }\\n            \\n                ##########\\n                TABLE ProdReplica.public_user {\\n                    ['id: STRING;', 'email: STRING;', 'name: STRING;', 'password: STRING;', 'photo: STRING;', 'roles: STRING;', 'show_nps: BOOLEAN;', 'branch_id: STRING;', 'created_at: TIMESTAMP;', 'updated_at: TIMESTAMP;', 'deleted: BOOLEAN;', 'onboarded: BOOLEAN;', 'datastream_metadata: RECORD;', 'permission_preset_title: STRING;', 'phone: STRING;', 'client_id: STRING;']\\n                }\\n            \\n                ##########\\n                TABLE ProdReplica.public_user_permission {\\n                    ['id: STRING;', 'user_id: STRING;', 'permission_type: STRING;', 'is_active: BOOLEAN;', 'created_at: TIMESTAMP;', 'updated_at: TIMESTAMP;', 'updated_by: STRING;', 'deleted: BOOLEAN;', 'datastream_metadata: RECORD;']\\n                }\\n            \\n                ##########\\n                TABLE ProdReplica.public_user_permission_preset {\\n                    ['id: STRING;', 'permissions: STRING;', 'title: STRING;', 'description: STRING;', 'created_at: TIMESTAMP;', 'updated_at: TIMESTAMP;', 'deleted: BOOLEAN;', 'branch_id: STRING;', 'datastream_metadata: RECORD;']\\n                }\\n            \\n                ##########\\n                TABLE ProdReplica.public_vehicle {\\n                    ['id: STRING;', 'plate: STRING;', 'make: STRING;', 'model: STRING;', 'fuel: STRING;', 'fipe_code: STRING;', 'color: STRING;', 'chassis: STRING;', 'photo: STRING;', 'year_make: STRING;', 'year_model: STRING;', 'company_id: STRING;', 'created_at: TIMESTAMP;', 'updated_at: TIMESTAMP;', 'deleted: BOOLEAN;', 'datastream_metadata: RECORD;', 'imported: BOOLEAN;', 'premium: BOOLEAN;', 'seats: INTEGER;', 'category: STRING;', 'weight: FLOAT;']\\n                }\\n            \\n                ##########\\n                TABLE ProdReplica.public_vehicle_buffer {\\n                    ['id: STRING;', 'plate: STRING;', 'silenced: BOOLEAN;', 'company_id: STRING;', 'created_at: TIMESTAMP;', 'updated_at: TIMESTAMP;', 'datastream_metadata: RECORD;']\\n                }\\n            \\n                ##########\\n                TABLE ProdReplica.public_vehicle_operation {\\n                    ['id: STRING;', 'title: STRING;', 'description: STRING;', 'created_at: TIMESTAMP;', 'updated_at: TIMESTAMP;', 'deleted: BOOLEAN;', 'company_id: STRING;', 'datastream_metadata: RECORD;']\\n                }\\n            \\n                ##########\\n                TABLE ProdReplica.public_vehicle_operation_phase {\\n                    ['id: STRING;', 'title: STRING;', 'description: STRING;', 'sequence: INTEGER;', 'created_at: TIMESTAMP;', 'updated_at: TIMESTAMP;', 'deleted: BOOLEAN;', 'color: STRING;', 'operation_id: STRING;', 'datastream_metadata: RECORD;']\\n                }\\n            \\n                ##########\\n                TABLE ProdReplica.public_vehicle_operation_taks_comment {\\n                    ['id: STRING;', 'task_id: STRING;', 'user_id: STRING;', 'content: STRING;', 'created_at: TIMESTAMP;', 'deleted: BOOLEAN;', 'datastream_metadata: RECORD;']\\n                }\\n            \\n                ##########\\n                TABLE ProdReplica.public_vehicle_operation_task {\\n                    ['id: STRING;', 'title: STRING;', 'description: STRING;', 'due_to: TIMESTAMP;', 'phase_id: STRING;', 'vehicle_id: STRING;', 'created_at: TIMESTAMP;', 'updated_at: TIMESTAMP;', 'deleted: BOOLEAN;', 'datastream_metadata: RECORD;']\\n                }\\n            \\n                ##########\\n                TABLE ProdReplica.public_vehicle_operation_task_assignee {\\n                    ['id: STRING;', 'task_id: STRING;', 'user_id: STRING;', 'assigned_at: TIMESTAMP;', 'assigned_by: STRING;', 'deleted: BOOLEAN;', 'datastream_metadata: RECORD;']\\n                }\\n            \\n                ##########\\n                TABLE ProdReplica.public_vehicle_operation_task_history {\\n                    ['id: STRING;', 'task_id: STRING;', 'phase_id: STRING;', 'moved_in: TIMESTAMP;', 'moved_out: TIMESTAMP;', 'datastream_metadata: RECORD;']\\n                }\\n            \\n                ##########\\n                TABLE ProdReplica.public_vehicles {\\n                    ['plate: STRING;', 'created_at: TIMESTAMP;', 'updated_at: TIMESTAMP;', 'company_id: STRING;', 'id: STRING;', 'datastream_metadata: RECORD;']\\n                }\\n            \""
      ]
     },
     "execution_count": 510,
     "metadata": {},
     "output_type": "execute_result"
    }
   ],
   "source": [
    "from google.cloud import bigquery\n",
    "from google.oauth2 import service_account\n",
    "credentials = service_account.Credentials.from_service_account_file(\n",
    "    bigqueryKey,\n",
    ")\n",
    "\n",
    "bigquery_client = bigquery.Client(\n",
    "    project=bigqueryProject,\n",
    "    credentials=credentials\n",
    ")\n",
    "\n",
    "bigquery_schema = ''\n",
    "\n",
    "datasets = ['TrakingProviders', 'ProdReplica']\n",
    "\n",
    "## Transform the previous typescript code to python\n",
    "def get_all_tables(dataset_id):\n",
    "    try:\n",
    "        # Get the dataset\n",
    "        tables = bigquery_client.list_tables(dataset_id)\n",
    "\n",
    "        # Get all tables in the dataset\n",
    "        print(tables)\n",
    "        # Object to store table schemas\n",
    "        tableSchemas = ''\n",
    "\n",
    "        # Iterate through each table\n",
    "        for table in tables:\n",
    "            tableName = table.table_id\n",
    "\n",
    "            metadata = bigquery_client.get_table(f\"{dataset_id}.{tableName}\")\n",
    "\n",
    "            metadataFormatted = [f\"{field.name}: {field.field_type};\" for field in metadata.schema]\n",
    "\n",
    "            schemaString = f\"\"\"\n",
    "                ##########\n",
    "                TABLE {dataset_id}.{tableName} {{\n",
    "                    {metadataFormatted}\n",
    "                }}\n",
    "            \"\"\"\n",
    "\n",
    "            tableSchemas += schemaString\n",
    "\n",
    "        return tableSchemas\n",
    "    except Exception as error:\n",
    "        print('Error fetching BigQuery table schemas:', error)\n",
    "        raise error\n",
    "\n",
    "for dataset in datasets:\n",
    "    dump = get_all_tables(dataset)\n",
    "    bigquery_schema += \"########## \" + dump\n",
    "bigquery_schema"
   ]
  },
  {
   "cell_type": "code",
   "execution_count": 511,
   "metadata": {},
   "outputs": [],
   "source": [
    "from langchain_core.output_parsers import StrOutputParser\n",
    "from langchain_core.prompts import ChatPromptTemplate\n",
    "from langchain_openai import ChatOpenAI\n",
    "from langchain.chains import LLMChain\n",
    "from langchain_core.runnables import RunnablePassthrough\n",
    "from langchain_core.tools import tool\n",
    "from langchain_core.output_parsers import JsonOutputParser\n",
    "from langchain.agents import AgentExecutor, load_tools, ZeroShotAgent, initialize_agent\n",
    "from langchain.memory import ConversationBufferMemory\n",
    "\n",
    "prompt = ChatPromptTemplate.from_template(\"tell me a short joke about {topic}\")\n",
    "model = ChatOpenAI(\n",
    "    model=\"gpt-3.5-turbo\", \n",
    "    api_key=openAiApiKey,\n",
    "    temperature=0\n",
    "  )"
   ]
  },
  {
   "cell_type": "code",
   "execution_count": null,
   "metadata": {},
   "outputs": [],
   "source": []
  },
  {
   "cell_type": "markdown",
   "metadata": {},
   "source": [
    "## Indexing"
   ]
  },
  {
   "cell_type": "markdown",
   "metadata": {},
   "source": [
    "### Extracting Susep Documents "
   ]
  },
  {
   "cell_type": "code",
   "execution_count": 514,
   "metadata": {},
   "outputs": [],
   "source": [
    "import requests\n",
    "from lxml import html\n",
    "import PyPDF2\n",
    "\n",
    "## scrap the following website and find the element with the xpath //*[@id=\"content-core\"]/ul\n",
    "\n",
    "\n",
    "susep_documents = \"\"\n",
    "data = [\n",
    "    {\n",
    "        \"url\": \"https://www.gov.br/susep/pt-br/assuntos/meu-futuro-seguro/seguros-previdencia-e-capitalizacao/seguros/seguro-de-automoveis\",\n",
    "        \"xpath\": \"/html/body/div[2]/div[1]/main/div[2]/div\"\n",
    "    },\n",
    "    # {\n",
    "    #     \"url\": \"https://www.gov.br/susep/pt-br/planos-e-produtos/seguros/seguro-de-automoveis\",\n",
    "    #     \"xpath\": \"/html/body/div[2]/div[1]/main/div[2]/div/div[4]/ul\"\n",
    "    # },\n",
    "    {\n",
    "        \"url\": 'https://www.gov.br/susep/pt-br/planos-e-produtos/seguros/seguro-compreensivo',\n",
    "        \"xpath\": '/html/body/div[2]/div[1]/main/div[2]/div/div[4]/ul'\n",
    "    },\n",
    "    {\n",
    "        \"url\": \"https://www.gov.br/susep/pt-br/planos-e-produtos/seguros/seguro-de-responsabilidade\",\n",
    "        \"xpath\": \"/html/body/div[2]/div[1]/main/div[2]/div/div[4]/ul\"\n",
    "    },\n",
    "    {\n",
    "        \"url\": \"https://www.gov.br/susep/pt-br/planos-e-produtos/seguros/seguro-de-pessoas\",\n",
    "        \"xpath\": \"/html/body/div[2]/div[1]/main/div[2]/div\"\n",
    "    },\n",
    "    {\n",
    "        \"url\":\"https://www.gov.br/susep/pt-br/planos-e-produtos/seguros/subitens-fora-do-menu/perguntas-e-respostas-seguro-de-pessoas-com-cobertura-de-sobrevivencia\",\n",
    "        \"xpath\":\"/html/body/div[2]/div[1]/main/div[2]/div/div[4]/ul\"\n",
    "    },\n",
    "    {\n",
    "        \"url\": \"https://www.gov.br/susep/pt-br/planos-e-produtos/seguros/seguro-de-danos\",\n",
    "        \"xpath\": \"/html/body/div[2]/div[1]/main/div[2]/div\"\n",
    "    },\n",
    "]\n",
    "\n",
    "for d in data:\n",
    "    page = requests.get(d[\"url\"])\n",
    "    tree = html.fromstring(page.content)\n",
    "    element = tree.xpath(d[\"xpath\"])\n",
    "    susep_documents += \"#######\" + element[0].text_content()\n",
    "\n",
    "\n"
   ]
  },
  {
   "cell_type": "markdown",
   "metadata": {},
   "source": [
    "### Setting Susep Vector Store"
   ]
  },
  {
   "cell_type": "code",
   "execution_count": 522,
   "metadata": {},
   "outputs": [
    {
     "name": "stdout",
     "output_type": "stream",
     "text": [
      "427\n"
     ]
    }
   ],
   "source": [
    "from langchain_community.document_loaders import TextLoader\n",
    "from langchain_community.document_loaders import UnstructuredMarkdownLoader\n",
    "from langchain_openai import OpenAIEmbeddings\n",
    "from langchain_text_splitters import RecursiveCharacterTextSplitter\n",
    "from langchain_community.vectorstores import Chroma\n",
    "\n",
    "text_splitter = RecursiveCharacterTextSplitter(\n",
    "    chunk_size=500, \n",
    "    chunk_overlap=50, \n",
    "    separators=[\"#######\", \"\\n\", \"\\r\\n\", \"\\r\"],\n",
    ")\n",
    "\n",
    "texts = text_splitter.split_text(susep_documents)\n",
    "documents = text_splitter.create_documents(texts)\n",
    "print(len(documents))\n",
    "db = Chroma.from_documents(documents, OpenAIEmbeddings(\n",
    "    api_key=openAiApiKey,\n",
    "))\n",
    "\n",
    "susep_retriever = db.as_retriever()\n",
    "\n",
    "\n",
    "\n"
   ]
  },
  {
   "cell_type": "markdown",
   "metadata": {},
   "source": [
    "### Setting Brick CG Vector Store"
   ]
  },
  {
   "cell_type": "code",
   "execution_count": 523,
   "metadata": {},
   "outputs": [
    {
     "data": {
      "text/plain": [
       "[Document(page_content='São também indenizáveis, até o limite máximo da indenização, os valores referentes aos danos materiais comprovadamente causados pelo segurado e/ou por terceiros na tentativa de evitar o sinistro, minorar o dano ou salvar o bem, conforme dispuser o contrato.\\xa0\\n\\xa0\\n\\nA seguradora é obrigada a oferecer produtos com previsão de livre escolha de oficinas para reparação dos veículos?'),\n",
       " Document(page_content='s danos materiais causados \\na terceiros, a Seguradora pode optar por reembolsar o Segurado ou indenizar \\ndiretamente o envolvido pelos prejuízos comprovados até o Limite  Máximo de \\nIndenização contratado para esta cobertura - Primeiro Risco Absoluto.  \\nb) Cobertura de Danos Corporais: após constatação dos danos corporais causados a \\nterceiros, a Seguradora pode optar por reembolsar o Segurado ou indenizar \\ndiretamente o envolvido  pelos prejuízos comprovados até o Limite Máximo de \\nIndenização contratado para esta cobertura – Segundo Risco.  \\n \\n25.1.6.3.  Por ser o Segundo Risco, a garantia de Danos Corporais somente responderá, \\nem cada reclamação, pela parte da indenização que exceder os limites  vigentes na data \\ndo sinistro, para as coberturas do seguro obrigatório DPVAT – Danos Pessoais Causados \\npor Veículos Automotores de Via Terrestre, previstas no art. 2º da Lei nº  \\n6.194 de 19/12/1974.  \\n \\n25.1.6.4.  Franquia  \\n \\nExclusivamente para o Auto Frota, se o seguro for contratado'),\n",
       " Document(page_content='bjeto prejuízos \\npatrimoniais decorrentes de danos que atinjam bens móveis e imóveis de \\nterceiros.  \\nb) Danos Corporais (RCF -V – Danos Corporais) tem como objeto prejuízos \\npatrimoniais decorren tes de danos físi - cos a pessoas (lesão, incapacidade ou \\nmorte) e só poderá ser contratado conjugado ao RCF -V Danos Materiais.  \\nc) Estas coberturas objetivam, a critério da Seguradora, indenizar diretamente o \\nterceiro ou reembolsar o Segurado das quantias que ele for obrigado a pagar \\nquando acionado judicialmente, respeitando o limite máximo da garantia fixada \\nna apólice/endosso, em decorrência de:  \\n \\nb.1) Indenizações em virtude de sentença judicial cível transitada em julgado ou \\ndecisão em juízo arbitral, ou de acordo autorizado previamente e de modo \\nexpresso pela Seguradora, mediante comprovação dos danos involuntários, \\nmateriais e corporais causados a terceiros, exceto às pessoas transportadas pelo \\npróprio veículo segurado. As referidas cobertur as devem ter sido contratadas'),\n",
       " Document(page_content='a) Quando o veículo segurado caus ar algum dano a bens de terceiros e/ou a pessoas.', metadata={'page': 42, 'source': './brick_bs_cg.pdf'}),\n",
       " Document(page_content='b) Valor referente aos dano s materiais comprovadamente causados pelo Segurado', metadata={'page': 36, 'source': './brick_bs_cg.pdf'})]"
      ]
     },
     "execution_count": 523,
     "metadata": {},
     "output_type": "execute_result"
    }
   ],
   "source": [
    "from langchain_community.document_loaders import PyPDFLoader\n",
    "\n",
    "\n",
    "text_splitter = RecursiveCharacterTextSplitter(\n",
    "    chunk_size=1000, \n",
    "    chunk_overlap=0,\n",
    "    separators=[\"Página\"],\n",
    ")\n",
    "\n",
    "pdf_file = open(\"./brick_bs_cg.pdf\", \"rb\")\n",
    "pdf_reader = PyPDF2.PdfReader(pdf_file)\n",
    "pdf_text = \"\"\n",
    "for page in pdf_reader.pages:\n",
    "    pdf_text += page.extract_text()\n",
    "pdf_file.close()\n",
    "\n",
    "\n",
    "\n",
    "texts = text_splitter.split_text(pdf_text)\n",
    "# print(texts)\n",
    "documents = text_splitter.create_documents(texts)\n",
    "# print(documents)\n",
    "\n",
    "brick_cg_db = Chroma.from_documents(documents, OpenAIEmbeddings(\n",
    "    # model=\"gpt-3.5-turbo\", \n",
    "    api_key=openAiApiKey,\n",
    "))\n",
    "\n",
    "brick_cg_retriever = brick_cg_db.as_retriever(\n",
    "    search_kwargs={\"k\": 5, \"lambda_mult\": 0.25},\n",
    "    search_type=\"mmr\",\n",
    ")\n",
    "\n",
    "brick_cg_retriever.get_relevant_documents(\"A apólice cobre danos materiais a terceiros?\")\n"
   ]
  },
  {
   "cell_type": "markdown",
   "metadata": {},
   "source": [
    "## File Readers"
   ]
  },
  {
   "cell_type": "code",
   "execution_count": null,
   "metadata": {},
   "outputs": [],
   "source": [
    "import csv\n",
    "import pandas as pd\n",
    "import json\n",
    "\n",
    "@tool\n",
    "def read_and_stringify_csv_file(file_path): \n",
    "    \"\"\"This function reads a csv file and returns a stringified version of the data\"\"\"\n",
    "    try:\n",
    "        with open(file_path, 'r') as file:\n",
    "            csv_reader = csv.reader(file)\n",
    "            data = list(csv_reader)\n",
    "            print(data)\n",
    "        return {\"file_path\": file_path, \"data\": str(data[0:100]),}\n",
    "    except Exception as error:\n",
    "        return {\"error\": str(error)}\n",
    "\n",
    "@tool\n",
    "def read_and_stringify_xlsx_file(file_path):\n",
    "    \"\"\"This function reads an xlsx file and returns a stringified version of the data\"\"\"\n",
    "    try:\n",
    "        data = pd.read_excel(file_path)\n",
    "        return {\"file_path\": file_path, \"data\": str(data[0:100])}\n",
    "    except Exception as error:\n",
    "        return {\"error\": str(error)}\n",
    "\n",
    "@tool\n",
    "def read_and_stringify_txt_file(file_path):\n",
    "    \"\"\"This function reads a txt file and returns a stringified version of the data\"\"\"\n",
    "    try:\n",
    "        with open(file_path, 'r') as file:\n",
    "            data = file.read()\n",
    "        return {\"data\": str(data[0:100]),  \"file_path\": file_path}\n",
    "    except Exception as error:\n",
    "        return {\"error\": str(error)}\n",
    "\n",
    "\n",
    "@tool\n",
    "def read_and_stringify_json_file(file_path):\n",
    "    \"\"\"This function reads a json file and returns a stringified version of the data\"\"\"\n",
    "    try:\n",
    "        with open(file_path, 'r') as file:\n",
    "            data = json.load(file)\n",
    "        return {\"file_path\": file_path, \"data\": str(data[0:100])}\n",
    "    except Exception as error:\n",
    "        return {\"error\": str(error)}\n",
    "\n",
    "def translate_to_portuguese(text):\n",
    "    \"\"\"This function translates a text to portuguese\"\"\"\n",
    "    prompt = ChatPromptTemplate.from_messages(\n",
    "       (\"user\", \"\"\"\n",
    "            Resume the following and translate it to portuguese: text:{text}.\n",
    "            Não de introdução e conclusão.\n",
    "            Apenas retorne o texto traduzido.\n",
    "            \"\"\"),\n",
    "    )\n",
    "    \n",
    "\n",
    "    chain = (\n",
    "        prompt |\n",
    "        model\n",
    "    )\n",
    "    res = chain.invoke({\"text\": text})\n",
    "\n",
    "    return res\n"
   ]
  },
  {
   "cell_type": "markdown",
   "metadata": {},
   "source": [
    "## Query the database"
   ]
  },
  {
   "cell_type": "code",
   "execution_count": null,
   "metadata": {},
   "outputs": [],
   "source": [
    "\n",
    "\n",
    "def query_database(query):\n",
    "    df = bigquery_client.query(query).to_dataframe()\n",
    "\n",
    "    return df\n",
    "\n",
    "@tool\n",
    "def query_database_chain(question):\n",
    "    \"\"\"This function queries the database with a given question\"\"\"\n",
    "    try:\n",
    "        sql_base_prompt = ChatPromptTemplate.from_messages([\n",
    "            (\"system\", \"\"\"\n",
    "                You are a backend developer specialized in writting Google BigQuery SQL queries.\n",
    "                Return only the SQL query that you should use to retrieve the data from the database.\n",
    "                You should be able to generate the best SQL query to retrieve the data from the database.\n",
    "                The data that you should retrieve is related to the input that you will receive\n",
    "                Try to return the fewest columns as possible. Merge columns if necessary.\n",
    "                Base on these database schema to generate the best SQL query:\n",
    "                {context}\n",
    "            \"\"\"),\n",
    "            (\"user\", \"\"\"\n",
    "                Generate a query for: {input}\n",
    "            \"\"\")\n",
    "        ])\n",
    "\n",
    "        def format_sql(sql):\n",
    "            return sql.replace('\"', '').replace('\\\\n', ' ').replace('\\\\t', ' ').replace('```sql', '').replace('```', '').strip()\n",
    "        \n",
    "        sql_parser = StrOutputParser().pipe(format_sql)\n",
    "\n",
    "        validation_prompt = ChatPromptTemplate.from_messages([\n",
    "            (\"system\", \"\"\"\n",
    "                You are a SQL expert. \n",
    "                You are a Google BigQuery SQL master.\n",
    "                You know everything about the SQL sintax of Google BigQuery.\n",
    "                You are very good at verifying SQL queries and making them better.\n",
    "\n",
    "                When you see a SQL query be carefult about the following:\n",
    "                - Check date functions sintax.\n",
    "                    -- Examples:   \n",
    "                        --- DATE_ADD(date_expression, INTERVAL int64_expression date_part). date_part must be one off: DAY, WEEK, MONTH, QUARTER, YEAR.\n",
    "                        --- DATE_DIFF(date_expression_a, date_expression_b, date_part). date_part must be one off: DAY, WEEK, MONTH, QUARTER, YEAR.\n",
    "                        --- DATE_SUB(date_expression, INTERVAL int64_expression date_part). date_part must be one off: DAY, WEEK, MONTH, QUARTER, YEAR.\n",
    "                        --- DATE_TRUNC(date_expression, date_part).  date_part must be one off: DAY, WEEK, MONTH, QUARTER, YEAR.\n",
    "                        --- EXTRACT(date_part FROM date_expression). date_part must be one off: DAYOFWEEK, DAY, DAYOFYEAR, WEEK, MONTH, QUARTER, YEAR.\n",
    "                        --- FORMAT_DATE(date_expression, format_string). format_string must be made off: %Y, %m, %d, %H, %M, %S.\n",
    "                        --- PARSE_DATE(format_string, date_string). format_string must be made off: %Y, %m, %d, %H, %M, %S.\n",
    "                        --- TIMESTAMP_ADD(timestamp_expression, INTERVAL int64_expression date_part). date_part must be one off: MICROSECOND, MILLISECOND, SECOND, MINUTE, HOUR, DAY, WEEK, MONTH, QUARTER, YEAR.\n",
    "                        --- TIMESTAMP_DIFF(timestamp_expression_a, timestamp_expression_b, date_part). date_part must be one off: MICROSECOND, MILLISECOND, SECOND, MINUTE, HOUR, DAY, WEEK, MONTH, QUARTER, YEAR.\n",
    "                        --- TIMESTAMP_SUB(timestamp_expression, INTERVAL int64_expression date_part). date_part must be one off: MICROSECOND, MILLISECOND, SECOND, MINUTE, HOUR, DAY, WEEK, MONTH, QUARTER, YEAR.\n",
    "                        --- TIMESTAMP_TRUNC(timestamp_expression, date_part). date_part must be one off: MICROSECOND, MILLISECOND, SECOND, MINUTE, HOUR, DAY, WEEK, MONTH, QUARTER, YEAR.\n",
    "                        --- DATETIME_ADD(datetime_expression, INTERVAL int64_expression date_part). date_part must be one off: MICROSECOND, MILLISECOND, SECOND, MINUTE, HOUR, DAY, WEEK, MONTH, QUARTER, YEAR.\n",
    "                        --- DATETIME_SUB(datetime_expression, INTERVAL int64_expression date_part). date_part must be one off: MICROSECOND, MILLISECOND, SECOND, MINUTE, HOUR, DAY, WEEK, MONTH, QUARTER, YEAR.\n",
    "                        --- DATETIME_TRUNC(datetime_expression, date_part). date_part must be one off: MICROSECOND, MILLISECOND, SECOND, MINUTE, HOUR, DAY, WEEK, MONTH, QUARTER, YEAR.\n",
    "                Return only the SQL query that should be use to retrieve the data from the database.\n",
    "                Do not give introduction or conclusion. Answer with only the SQL query.\n",
    "                Validate this SQL: {result}\n",
    "            \"\"\")\n",
    "        ])\n",
    "            \n",
    "\n",
    "        chain = (\n",
    "            sql_base_prompt |\n",
    "            model |\n",
    "            {\"result\": sql_parser} |\n",
    "            validation_prompt |\n",
    "            model |\n",
    "            sql_parser |\n",
    "            query_database\n",
    "        )\n",
    "\n",
    "        res = chain.invoke({\"input\": question, \"context\": bigquery_schema}) \n",
    "\n",
    "        return res\n",
    "    except Exception as error:\n",
    "        return {\"error\": str(error)}\n",
    "# query_database_chain(\"Quais placas andaram mais rápido no mês de fevereiro de 2024?\")\n",
    "        "
   ]
  },
  {
   "cell_type": "markdown",
   "metadata": {},
   "source": [
    "## Plotting Charts"
   ]
  },
  {
   "cell_type": "code",
   "execution_count": null,
   "metadata": {},
   "outputs": [],
   "source": [
    "import matplotlib.pyplot as plt\n",
    "import numpy as np\n",
    "\n",
    "def convert_to_json_format(text):\n",
    "    prompt = ChatPromptTemplate.from_messages(\n",
    "        [(\"system\", \"\"\"\n",
    "            You are a backend developer specialized in converting text to JSON format.\n",
    "            You are very good at converting text to JSON format.\n",
    "            You are very good at identifying keys in a text imagining that it would be plot into a graph.\n",
    "            You divide the data into two keys:\n",
    "                - x: The x values of the graph.\n",
    "                - y: The y values of the graph.\n",
    "            You do not give introduction or conclusion. Answer with only the JSON format.\n",
    "         \"\"\"),\n",
    "         (\"user\", \"\"\"\n",
    "            Convert the following text to a JSON format.\n",
    "            text={text}  \n",
    "            \"\"\")]\n",
    "     )\n",
    "    \n",
    "    chain = (\n",
    "        prompt |\n",
    "        model |\n",
    "        JsonOutputParser()\n",
    "    )\n",
    "\n",
    "    res = chain.invoke({\"text\": text})\n",
    "\n",
    "    return res\n",
    "\n",
    "@tool\n",
    "def plot_line_chart(data):\n",
    "    \"\"\"This function receives a dictionary with x and y values and plots a line chart\"\"\"\n",
    "\n",
    "    try:\n",
    "        json = convert_to_json_format(data)\n",
    "\n",
    "\n",
    "        # return {\"data_type\": type(json), \"data\": str(json)}\n",
    "        x = np.array(json['x'])\n",
    "        y = np.array(json['y'])\n",
    "        \n",
    "        # plt.xticks(np.arange(0, len(json['x']), step=10), json['x'][::10])\n",
    "        # plt.yticks(np.arange(0, len(json['y']), step=10), json['y'][::10])\n",
    "\n",
    "        plt.plot(x, y)\n",
    "        plt.show()\n",
    "        return {\"data\": \"Line chart plotted\"}\n",
    "    except Exception as error:\n",
    "        return {\"error\": str(error), \"message\": \"Try to solve the problem and run the tool again. If needed, query the database for the data again.\"}\n",
    "\n",
    "@tool\n",
    "def plot_bar_chart(data):\n",
    "    \"\"\"This function receives a dictionary with x and y values and plots a bar chart\"\"\"\n",
    "\n",
    "    try:\n",
    "        json = convert_to_json_format(data)\n",
    "\n",
    "\n",
    "        # return {\"data_type\": type(json), \"data\": str(json)}\n",
    "        x = np.array(json['x'])\n",
    "        y = np.array(json['y'])\n",
    "        \n",
    "        # plt.xticks(np.arange(0, len(json['x']), step=10), json['x'][::10])\n",
    "        # plt.yticks(np.arange(0, len(json['y']), step=10), json['y'][::10])\n",
    "\n",
    "        plt.bar(x, y)\n",
    "        plt.show()\n",
    "        return {\"data\": \"Bar chart plotted\"}\n",
    "    except Exception as error:\n",
    "        return {\"error\": str(error), \"message\": \"Try to solve the problem and run the tool again. If needed, query the database for the data again.\"}\n",
    "\n",
    "@tool\n",
    "def plot_pie_chart(data):\n",
    "    \"\"\"This function receives a dictionary with x and y values and plots a pie chart\"\"\"\n",
    "\n",
    "    try:\n",
    "        json = convert_to_json_format(data)\n",
    "\n",
    "        float_y = [float(i) for i in json['y']]\n",
    "        # return {\"data_type\": type(json), \"data\": str(json)}\n",
    "        x = np.array(json['x'])\n",
    "        y = np.array(float_y)\n",
    "        \n",
    "        # plt.xticks(np.arange(0, len(json['x']), step=10), json['x'][::10])\n",
    "        # plt.yticks(np.arange(0, len(json['y']), step=10), json['y'][::10])\n",
    "\n",
    "        plt.pie(y, labels=x, autopct='%1.1f%%')\n",
    "        plt.show()\n",
    "        return {\"data\": \"Pie chart plotted\"}\n",
    "    except Exception as error:\n",
    "        return {\"error\": str(error), \"message\": \"Try to solve the problem and run the tool again. If needed, query the database for the data again.\"}\n",
    "\n",
    "# @tool\n",
    "# def plot_histogram(data):\n",
    "#     \"\"\"This function receives a dictionary with x values and plots a histogram chart\"\"\"\n",
    "\n",
    "#     try:\n",
    "#         json = convert_to_json_format(data)\n",
    "\n",
    "#         # return {\"data_type\": type(json), \"data\": str(json)}\n",
    "#         x = np.array(json['x'])\n",
    "        \n",
    "#         # plt.xticks(np.arange(0, len(json['x']), step=10), json['x'][::10])\n",
    "#         # plt.yticks(np.arange(0, len(json['y']), step=10), json['y'][::10])\n",
    "\n",
    "#         plt.hist(x, bins=10)\n",
    "#         plt.show()\n",
    "#         return {\"data\": \"Histogram chart plotted\"}\n",
    "#     except Exception as error:\n",
    "#         return {\"error\": str(error), \"message\": \"Try to solve the problem and run the tool again. If needed, query the database for the data again.\"}"
   ]
  },
  {
   "cell_type": "markdown",
   "metadata": {},
   "source": [
    "## Insurance RAG"
   ]
  },
  {
   "cell_type": "code",
   "execution_count": null,
   "metadata": {},
   "outputs": [
    {
     "data": {
      "text/plain": [
       "'Um seguro de APP é um seguro de Acidentes Pessoais para Passageiros. Essa cobertura pode ser conjugada com o seguro de automóvel e oferece proteção em caso de acidentes que resultem em danos corporais aos passageiros do veículo segurado.'"
      ]
     },
     "execution_count": 410,
     "metadata": {},
     "output_type": "execute_result"
    }
   ],
   "source": [
    "from operator import itemgetter\n",
    "\n",
    "def get_susep_relevant_documents(question):\n",
    "    try:\n",
    "        content = \"\"\n",
    "        documents = susep_retriever.get_relevant_documents(question)\n",
    "        for document in documents:\n",
    "            content += document.page_content\n",
    "        return content\n",
    "    \n",
    "    except Exception as error:\n",
    "        return {\"error\": str(error)}\n",
    "    \n",
    "def audit(data):\n",
    "    print(data)\n",
    "    return data\n",
    "\n",
    "@tool\n",
    "def susep_helper(question):\n",
    "    \"\"\"This function queries the SUSEP documents with a given question to answer insurance related questions.\"\"\"\n",
    "    try:\n",
    "        \n",
    "        prompt = ChatPromptTemplate.from_messages(\n",
    "            [\n",
    "                (\"system\", \"\"\"\n",
    "                    SUSEP is the Brazilian insurance regulatory agency.\n",
    "                    You are an insurance agent specialized in SUSEP documents.\n",
    "                    You are very good at finding information in SUSEP documents.\n",
    "                    You are very good at generating the best response to insurance related questions.\n",
    "                    Answer it using the following context:\n",
    "                    {context}\n",
    "                 \"\"\"),\n",
    "                (\"user\", \"\"\"\n",
    "                Answer this question as best as you can: {question}\n",
    "            \"\"\")]\n",
    "        )\n",
    "\n",
    "        chain = (\n",
    "            {\"context\": itemgetter(\"question\") | susep_retriever,\"question\": itemgetter(\"question\")} \n",
    "            | prompt \n",
    "            | model \n",
    "        )\n",
    "\n",
    "        res = chain.invoke({\"question\": question})\n",
    "\n",
    "        return res.content\n",
    "        \n",
    "    except Exception as error:\n",
    "        return {\"error\": str(error)}\n",
    "susep_helper(\"O que é um seguro de APP?\")"
   ]
  },
  {
   "cell_type": "markdown",
   "metadata": {},
   "source": [
    "## Brick CG RAG"
   ]
  },
  {
   "cell_type": "code",
   "execution_count": null,
   "metadata": {},
   "outputs": [],
   "source": [
    "from operator import itemgetter\n",
    "\n",
    "@tool\n",
    "def brick_cg_helper(question):\n",
    "    \"\"\"This function queries the Brick Seguros documents with a given question to answer insurance related questions related to Brick Seguros.\"\"\"\n",
    "    try:\n",
    "        \n",
    "        prompt = ChatPromptTemplate.from_messages(\n",
    "            [\n",
    "                (\"system\", \"\"\"\n",
    "                    Brick Seguros is a Brazilian insurance company that you work for.\n",
    "                    You are an insurance agent specialized in understanding Brick Seguros insurance terms.\n",
    "                    You are very good at finding information in Brick Seguros documents.\n",
    "                    You are very good at generating the best response to insurance related questions.\n",
    "                    {context}\n",
    "                 \"\"\"),\n",
    "                (\"user\", \"\"\"\n",
    "                Answer this question as best as you can: {question}\n",
    "            \"\"\")]\n",
    "        )\n",
    "\n",
    "        chain = (\n",
    "            {\"context\": itemgetter(\"question\") | brick_cg_retriever,\"question\": itemgetter(\"question\")} \n",
    "            | prompt \n",
    "            | model \n",
    "        )\n",
    "\n",
    "        res = chain.invoke({\"question\": question})\n",
    "\n",
    "        return res.content\n",
    "        \n",
    "    except Exception as error:\n",
    "        return {\"error\": str(error)}\n",
    "# susep_helper(\"O que é um seguro de APP?\")"
   ]
  },
  {
   "cell_type": "markdown",
   "metadata": {},
   "source": [
    "## Quoting Insurance Policy"
   ]
  },
  {
   "cell_type": "code",
   "execution_count": null,
   "metadata": {},
   "outputs": [],
   "source": [
    "file_reader_agent = initialize_agent(\n",
    "    agent_name=\"file_reader_agent\",\n",
    "    tools=[read_and_stringify_csv_file, read_and_stringify_xlsx_file, read_and_stringify_txt_file, read_and_stringify_json_file],\n",
    "    llm=model\n",
    ")\n",
    "\n",
    "\n",
    "def read_and_stringify_file(file_path):\n",
    "    return file_reader_agent.run(file_path)\n",
    "\n",
    "\n",
    "def generate_script_from_file(data):\n",
    "    \"\"\"\n",
    "    This function generates a python script to transform the data into a pandas dataframe.\n",
    "    It should always run before quoting vehicle data.\n",
    "    \"\"\"\n",
    "    translation_prompt = ChatPromptTemplate.from_messages(\n",
    "        [\n",
    "            (\"system\", \"\"\"\n",
    "            Você é especialista em identificar a chave de campos desejados em um dataset. \n",
    "            Você é muito bom em escrever jsons.\n",
    "            Não escreva nenhuma introdução ou conclusão.\n",
    "            Retorne apenas o json que mapeia os campos do dataset para as chaves desejadas.\n",
    "            \"\"\"),\n",
    "            (\"user\", \"\"\"\n",
    "            Gere um json que mapeie os campos do dataset para as chaves desejadas.:\n",
    "            \n",
    "            --\n",
    "            Schema: \n",
    "                - plate: $PLATE_ATTRIBUTE_KEY\n",
    "                - make: $MAKE_ATTRIBUTE_KEY\n",
    "                - model: $MODEL_ATTRIBUTE_KEY\n",
    "                - year: $YEAR_ATTRIBUTE_KEY\n",
    "\n",
    "            --\n",
    "            Dataset recebidos: {data}\n",
    "            \"\"\"),\n",
    "        ]\n",
    "    )\n",
    "\n",
    "    chain = (\n",
    "        translation_prompt\n",
    "        | model\n",
    "        | JsonOutputParser()\n",
    "    )\n",
    "\n",
    "    return chain.invoke({\"data\": data})\n",
    "    \n",
    "@tool\n",
    "def quote_vehicles(file_path):\n",
    "    \"\"\"\n",
    "        This function is used to quote vehicles. It receives a file with the content of the vehicles and returns a list of quotes.\n",
    "    \"\"\"\n",
    "    \n",
    "    try: \n",
    "        file_path_ref = \"\"\n",
    "        \n",
    "        file_path_arr = file_path.split(\"= \")\n",
    "        if(len(file_path_arr) > 1):\n",
    "            file_path_ref = file_path_arr[1].replace('\"', \"\").strip()\n",
    "        else:\n",
    "            file_path_ref = file_path\n",
    "\n",
    "        file_content = read_and_stringify_file(file_path_ref)\n",
    "\n",
    "        attr_map = generate_script_from_file(file_content)\n",
    "        print(attr_map)\n",
    "\n",
    "        file_extension = file_path_ref.split(\".\")[-1]\n",
    "\n",
    "        vehicles = []\n",
    "        if file_extension == \"json\":\n",
    "            content = {}\n",
    "            with open(file_path_ref, 'r') as file:\n",
    "                content = json.load(file)\n",
    "                \n",
    "                for vehicle in content:\n",
    "                    vehicles.append({\n",
    "                        \"plate\": vehicle[attr_map[\"plate\"]],\n",
    "                        \"make\": vehicle[attr_map[\"make\"]],\n",
    "                        \"model\": vehicle[attr_map[\"model\"]],\n",
    "                        \"year\": vehicle[attr_map[\"year\"]],\n",
    "                    })\n",
    "        if file_extension == \"csv\":\n",
    "            content = pd.read_csv(file_path_ref)\n",
    "            print(content)\n",
    "            for index, row in content.iterrows():\n",
    "                vehicles.append({\n",
    "                    \"plate\": row[attr_map[\"plate\"]],\n",
    "                    \"make\": row[attr_map[\"make\"]],\n",
    "                    \"model\": row[attr_map[\"model\"]],\n",
    "                    \"year\": row[attr_map[\"year\"]],\n",
    "                })\n",
    "            \n",
    "        print(vehicles)\n",
    "        \n",
    "        quotes = []\n",
    "        \n",
    "        for vehicle in vehicles:\n",
    "            price = 1000\n",
    "\n",
    "            if int(vehicle[\"year\"]) < 2020:\n",
    "                price += 500\n",
    "\n",
    "            quotes.append({\n",
    "                \"plate\": vehicle[\"plate\"],\n",
    "                \"make\": vehicle[\"make\"],\n",
    "                \"model\": vehicle[\"model\"],\n",
    "                \"year\": vehicle[\"year\"],\n",
    "                \"price\": price\n",
    "            })\n",
    "\n",
    "        return quotes\n",
    "    except Exception as error:\n",
    "        return {\"error\": str(error), \"message\": \"Make sure you are only passing the file address as a parameter.\"}"
   ]
  },
  {
   "cell_type": "markdown",
   "metadata": {},
   "source": [
    "## Policy Issuance"
   ]
  },
  {
   "cell_type": "code",
   "execution_count": null,
   "metadata": {},
   "outputs": [],
   "source": [
    "\n",
    "@tool\n",
    "def issue_policy(data):\n",
    "    \"\"\"\n",
    "    This function receives a list of quotes and issues a policy for them.\n",
    "    \"\"\"\n",
    "\n",
    "    return \"Policy issued for the following vehicles: \" + str(data)"
   ]
  },
  {
   "cell_type": "markdown",
   "metadata": {},
   "source": [
    "## Initializing the Agent"
   ]
  },
  {
   "cell_type": "code",
   "execution_count": null,
   "metadata": {},
   "outputs": [],
   "source": [
    "loaded_tools = load_tools([\"wikipedia\", \"serpapi\", \"llm-math\"], from_llm=model, llm=model)\n",
    "tools = [\n",
    "    read_and_stringify_csv_file,\n",
    "    read_and_stringify_xlsx_file,\n",
    "    read_and_stringify_txt_file,\n",
    "    read_and_stringify_json_file,\n",
    "    plot_line_chart,\n",
    "    plot_bar_chart,\n",
    "    plot_pie_chart,\n",
    "    issue_policy,\n",
    "    susep_helper,\n",
    "    brick_cg_helper,\n",
    "    # plot_histogram,\n",
    "    query_database_chain,\n",
    "    quote_vehicles,\n",
    "    loaded_tools[0],\n",
    "    loaded_tools[1],\n",
    "    loaded_tools[2]\n",
    "]\n",
    "\n",
    "prefix = \"\"\"Have a conversation with a human answering the following questions as best you can. You have access to the following tools:\"\"\"\n",
    "suffix = \"\"\"Begin!\"\n",
    "\n",
    "{chat_history}\n",
    "Question: {input}\n",
    "{agent_scratchpad}\"\"\"\n",
    "\n",
    "prompt = ZeroShotAgent.create_prompt(\n",
    "    tools,\n",
    "    prefix=prefix,\n",
    "    suffix=suffix,\n",
    "    input_variables=[\"input\", \"chat_history\", \"agent_scratchpad\"],\n",
    ")\n",
    "\n",
    "memory = ConversationBufferMemory(memory_key=\"chat_history\")\n",
    "\n",
    "llm_chain = LLMChain(llm=model, prompt=prompt)\n",
    "\n",
    "agent = ZeroShotAgent(llm_chain=llm_chain, tools=tools, verbose=True)\n",
    "\n",
    "agent_chain = AgentExecutor.from_agent_and_tools(\n",
    "    agent=agent, \n",
    "    tools=tools, \n",
    "    verbose=True, \n",
    "    memory=memory,\n",
    "    handle_parsing_errors=True\n",
    ")\n",
    "\n",
    "# log the prompt from agent\n"
   ]
  },
  {
   "cell_type": "markdown",
   "metadata": {},
   "source": [
    "f'\"Have a conversation with a human answering the following questions as best you can. You have access to the following tools:\\n\\nread_and_stringify_csv_file: read_and_stringify_csv_file(file_path) - This function reads a csv file and returns a stringified version of the data\\nread_and_stringify_xlsx_file: read_and_stringify_xlsx_file(file_path) - This function reads an xlsx file and returns a stringified version of the data\\nread_and_stringify_txt_file: read_and_stringify_txt_file(file_path) - This function reads a txt file and returns a stringified version of the data\\nread_and_stringify_json_file: read_and_stringify_json_file(file_path) - This function reads a json file and returns a stringified version of the data\\nplot_line_chart: plot_line_chart(data) - This function plots a line chart\\nplot_bar_chart: plot_bar_chart(data) - This function plots a bar chart\\nplot_pie_chart: plot_pie_chart(data) - This function plots a pie chart\\nplot_histogram: plot_histogram(data) - This function plots a histogram\\nquote_vehicles: quote_vehicles(file_path) - This function is used to quote vehicles. It receives a file with the content of the vehicles and returns a list of quotes.\\nwikipedia: A wrapper around Wikipedia. Useful for when you need to answer general questions about people, places, companies, facts, historical events, or other subjects. Input should be a search query.\\nSearch: A search engine. Useful for when you need to answer questions about current events. Input should be a search query.\\nCalculator: Useful for when you need to answer questions about math.\\n\\nUse the following format:\\n\\nQuestion: the input question you must answer\\nThought: you should always think about what to do\\nAction: the action to take, should be one of [read_and_stringify_csv_file, read_and_stringify_xlsx_file, read_and_stringify_txt_file, read_and_stringify_json_file, plot_line_chart, plot_bar_chart, plot_pie_chart, plot_histogram, quote_vehicles, wikipedia, Search, Calculator]\\nAction Input: the input to the action\\nObservation: the result of the action\\n... (this Thought/Action/Action Input/Observation can repeat N times)\\nThought: I now know the final answer\\nFinal Answer: the final answer to the original input question\\n\\nBegin!\"\\n\\n{chat_history}\\nQuestion: {input}\\n{agent_scratchpad}'\""
   ]
  },
  {
   "cell_type": "code",
   "execution_count": null,
   "metadata": {},
   "outputs": [],
   "source": [
    "class BrickAi:\n",
    "    def __init__(self, agent_chain):\n",
    "        self.agent_chain = agent_chain\n",
    "\n",
    "    def run(self, input):\n",
    "        content = self.agent_chain.run(input)\n",
    "        res = translate_to_portuguese(str(content))\n",
    "        return res.content\n",
    "    \n",
    "brick_ai = BrickAi(agent_chain)"
   ]
  },
  {
   "cell_type": "markdown",
   "metadata": {},
   "source": [
    "## Testing"
   ]
  },
  {
   "cell_type": "markdown",
   "metadata": {},
   "source": [
    "### Wikipedia and Google Search Support"
   ]
  },
  {
   "cell_type": "code",
   "execution_count": null,
   "metadata": {},
   "outputs": [],
   "source": [
    "# brick_ai.run(\"O que é o teorema do limite central?\")\n",
    "\n",
    "# brick_ai.run(\"O que são goroutines em Go?\")"
   ]
  },
  {
   "cell_type": "markdown",
   "metadata": {},
   "source": [
    "### Files Support"
   ]
  },
  {
   "cell_type": "code",
   "execution_count": null,
   "metadata": {},
   "outputs": [],
   "source": [
    "# brick_ai.run(\"Qual é o conteúdo de ./test_json.json\")\n",
    "\n",
    "# brick_ai.run(\"Qual é o conteúdo de ./plates.csv\")\n",
    "\n",
    "# brick_ai.run(\"Qual é o conteúdo de ./plates.json\")"
   ]
  },
  {
   "cell_type": "markdown",
   "metadata": {},
   "source": [
    "### Database Queries Support"
   ]
  },
  {
   "cell_type": "code",
   "execution_count": null,
   "metadata": {},
   "outputs": [
    {
     "name": "stdout",
     "output_type": "stream",
     "text": [
      "\n",
      "\n",
      "\u001b[1m> Entering new AgentExecutor chain...\u001b[0m\n",
      "\u001b[32;1m\u001b[1;3mThought: I should query the database to find out which people had the most claims.\n",
      "Action: query_database_chain\n",
      "Action Input: \"Which people had the most claims?\"\u001b[0m\n",
      "Observation: \u001b[38;5;200m\u001b[1;3m                                     id             name  total_claims\n",
      "0  3ad1b056-3ecc-4ac6-96e0-8a1342de5f05  FILIP HAKANSSON             1\u001b[0m\n",
      "Thought:\u001b[32;1m\u001b[1;3mI now know the final answer\n",
      "Final Answer: FILIP HAKANSSON had the most claims.\u001b[0m\n",
      "\n",
      "\u001b[1m> Finished chain.\u001b[0m\n"
     ]
    },
    {
     "data": {
      "text/plain": [
       "'FILIP HAKANSSON teve a maioria das reivindicações.'"
      ]
     },
     "execution_count": 326,
     "metadata": {},
     "output_type": "execute_result"
    }
   ],
   "source": [
    "# brick_ai.run(input=\"\"\"Quantas empresas entraram no mês de janeiro de 2024?\"\"\")\n",
    "\n",
    "# brick_ai.run(input=\"\"\"Quais as 3 placas que andaram mais rápido no mês de fevereiro de 2024?\"\"\")"
   ]
  },
  {
   "cell_type": "markdown",
   "metadata": {},
   "source": [
    "### Graph Generation Support"
   ]
  },
  {
   "cell_type": "code",
   "execution_count": null,
   "metadata": {},
   "outputs": [],
   "source": [
    "\n",
    "# brick_ai.run(input=\"\"\"Use os dados do banco de dados e Gere um gráfico de linhas do número de empresas que entraram por mês em 2024\"\"\")\n",
    "\n",
    "# brick_ai.run(input=\"\"\"Gere um gráfico de barras da variação de odômetro dos 3 carros que mais rodaram em 2024\"\"\")\n",
    "\n",
    "# brick_ai.run(input=\"\"\"Gere um gráfico de pizza do número de empresas por categoria\"\"\")\n"
   ]
  },
  {
   "cell_type": "markdown",
   "metadata": {},
   "source": [
    "### Specific Insurance Questions"
   ]
  },
  {
   "cell_type": "code",
   "execution_count": null,
   "metadata": {},
   "outputs": [
    {
     "name": "stdout",
     "output_type": "stream",
     "text": [
      "\n",
      "\n",
      "\u001b[1m> Entering new AgentExecutor chain...\u001b[0m\n",
      "\u001b[32;1m\u001b[1;3mThought: I should find information on when the coverage of APP starts to be valid.\n",
      "Action: susep_helper\n",
      "Action Input: \"A partir de quando a cobertura de APP começa a valer?\"\u001b[0m\n",
      "Observation: \u001b[38;5;200m\u001b[1;3mA cobertura de Acidentes Pessoais de Passageiros (APP) começa a valer a partir das 24 horas da data de pagamento do prêmio, nos casos de planos de seguros contratados por bilhete.\u001b[0m\n",
      "Thought:\u001b[32;1m\u001b[1;3mI now know the final answer\n",
      "Final Answer: A cobertura de APP começa a valer a partir das 24 horas da data de pagamento do prêmio, nos casos de planos de seguros contratados por bilhete.\u001b[0m\n",
      "\n",
      "\u001b[1m> Finished chain.\u001b[0m\n"
     ]
    },
    {
     "data": {
      "text/plain": [
       "'A cobertura de APP começa a valer a partir das 24 horas da data de pagamento do prêmio, nos casos de planos de seguros contratados por bilhete.\\n\\nA cobertura de APP começa a ser eficaz 24 horas após a data de pagamento do prêmio, nos casos de planos de seguros contratados por bilhete.'"
      ]
     },
     "execution_count": 414,
     "metadata": {},
     "output_type": "execute_result"
    }
   ],
   "source": [
    "brick_ai.run(input=\"\"\"A partir de quando a cobertura de APP começa a valer?\"\"\")\n"
   ]
  },
  {
   "cell_type": "markdown",
   "metadata": {},
   "source": [
    "### Brick CG Related Questions"
   ]
  },
  {
   "cell_type": "code",
   "execution_count": null,
   "metadata": {},
   "outputs": [
    {
     "name": "stdout",
     "output_type": "stream",
     "text": [
      "\n",
      "\n",
      "\u001b[1m> Entering new AgentExecutor chain...\u001b[0m\n",
      "\u001b[32;1m\u001b[1;3mThought: The question seems to be about whether insurance claims can be charged based on kilometers.\n",
      "Action: susep_helper\n",
      "Action Input: \"O sinistro é pode ser cobrado por kilometro?\"\u001b[0m\n",
      "Observation: \u001b[38;5;200m\u001b[1;3mNo caso das coberturas do seguro obrigatório DPVAT - Danos Pessoais Causados, o sinistro não é cobrado por quilômetro percorrido. O DPVAT é um seguro que garante indenização em caso de morte, invalidez permanente ou despesas médicas decorrentes de acidentes de trânsito, independentemente da distância percorrida no momento do sinistro.\u001b[0m\n",
      "Thought:\u001b[32;1m\u001b[1;3mThe question seems to be specifically about the DPVAT insurance and whether claims can be charged based on kilometers traveled.\n",
      "Final Answer: No, insurance claims under the DPVAT insurance are not charged based on kilometers traveled. The DPVAT insurance provides compensation for death, permanent disability, or medical expenses resulting from traffic accidents, regardless of the distance traveled at the time of the claim.\u001b[0m\n",
      "\n",
      "\u001b[1m> Finished chain.\u001b[0m\n"
     ]
    },
    {
     "data": {
      "text/plain": [
       "'As reivindicações de seguro sob o seguro DPVAT não são cobradas com base nos quilômetros percorridos. O seguro DPVAT fornece compensação por morte, invalidez permanente ou despesas médicas resultantes de acidentes de trânsito, independentemente da distância percorrida no momento da reivindicação.'"
      ]
     },
     "execution_count": 489,
     "metadata": {},
     "output_type": "execute_result"
    }
   ],
   "source": [
    "brick_ai.run(input=\"\"\"O sinistro é pode ser cobrado por kilometro??\"\"\")\n"
   ]
  },
  {
   "cell_type": "markdown",
   "metadata": {},
   "source": [
    "### Insurance Quoting Support"
   ]
  },
  {
   "cell_type": "code",
   "execution_count": null,
   "metadata": {},
   "outputs": [],
   "source": [
    "# brick_ai.run(\"Qual a diferença entre uma Apólice e um Endosso?\")\n",
    "\n",
    "# brick_ai.run(\"Faça uma cotação para os veículos no arquivo ./plates.json\")\n",
    "\n",
    "# brick_ai.run(\"Faça uma cotação para os veículos no arquivo ./plates.csv\")\n",
    "\n",
    "# brick_ai.run(\"Quanto deu a última cotação?\")\n",
    "\n",
    "# brick_ai.run(\"Quanto deu a primeira cotação?\")\n",
    "\n",
    "# brick_ai.run(\"Emita a apólice para essa última cotação. Depois me diga quanto ficou o total\")\n",
    "\n",
    "# brick_ai.run(\"Quanto deu a primeira cotação mesmo?\")\n",
    "\n",
    "# brick_ai.run(\"Quanto deu a cotação que você emitiu?\")\n",
    "\n",
    "# brick_ai.run(\"O que é cobertura de terceiros na cotação?\")\n",
    "\n",
    "# brick_ai.run(\"Quando pode ser que eu precise usar o pdf da minha apólice?\")"
   ]
  }
 ],
 "metadata": {
  "kernelspec": {
   "display_name": "Python 3",
   "language": "python",
   "name": "python3"
  },
  "language_info": {
   "codemirror_mode": {
    "name": "ipython",
    "version": 3
   },
   "file_extension": ".py",
   "mimetype": "text/x-python",
   "name": "python",
   "nbconvert_exporter": "python",
   "pygments_lexer": "ipython3",
   "version": "3.11.4"
  }
 },
 "nbformat": 4,
 "nbformat_minor": 2
}
